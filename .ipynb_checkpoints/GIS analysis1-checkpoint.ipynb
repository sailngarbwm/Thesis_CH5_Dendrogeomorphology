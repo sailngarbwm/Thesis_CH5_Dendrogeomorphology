{
 "cells": [
  {
   "cell_type": "code",
   "execution_count": 1,
   "metadata": {},
   "outputs": [],
   "source": [
    "from config import Config\n",
    "import numpy as np\n",
    "from shapely.geometry import LineString, Point, MultiPoint, MultiLineString\n",
    "\n",
    "# from rasterstats import zonal_stats\n",
    "# import rasterio as rio\n",
    "import geopandas as gpd\n",
    "from rasterio.mask import mask\n",
    "import os\n",
    "# import rasterstats as rasstats\n",
    "\n",
    "import pandas as pd\n",
    "\n",
    "cfg = Config()"
   ]
  },
  {
   "cell_type": "code",
   "execution_count": null,
   "metadata": {},
   "outputs": [],
   "source": [
    "cfg_test = cfg.pine_dirs\n",
    "cfg_test"
   ]
  },
  {
   "cell_type": "code",
   "execution_count": null,
   "metadata": {},
   "outputs": [],
   "source": []
  },
  {
   "cell_type": "code",
   "execution_count": null,
   "metadata": {},
   "outputs": [],
   "source": [
    "line = LineString([(0,0), (3,3)])\n",
    "\n",
    "pointr = Point(2,1)"
   ]
  },
  {
   "cell_type": "code",
   "execution_count": null,
   "metadata": {},
   "outputs": [],
   "source": [
    "lspot = line.project(pointr)\n",
    "\n",
    "lpoint = line.interpolate(lspot)\n",
    "lpoint2 = line.interpolate(lspot-0.3)"
   ]
  },
  {
   "cell_type": "code",
   "execution_count": null,
   "metadata": {},
   "outputs": [],
   "source": [
    "line.project(lpoint, normalized=True), lspot-0.3"
   ]
  },
  {
   "cell_type": "code",
   "execution_count": null,
   "metadata": {},
   "outputs": [],
   "source": [
    "def find_dir(p1, p2):\n",
    "    p1 = np.array(p1.xy)\n",
    "    p2 = np.array(p2.xy)\n",
    "    dx = p2[0][0] - p1[0][0]\n",
    "    dy = p2[1][0] - p1[1][0]   \n",
    "    return np.arctan2(dy,dx)\n",
    "\n",
    "\n",
    "def find_dist(p1, p2):\n",
    "    p1 = np.array(p1.xy)\n",
    "    p2 = np.array(p2.xy)\n",
    "    dx = p2[0][0] - p1[0][0]\n",
    "    dy = p2[1][0] - p1[1][0]  \n",
    "    \n",
    "    dist = np.sqrt(dx**2+dy**2)\n",
    "    return dist\n",
    "    \n",
    "def lin_ref(point, line):\n",
    "    lspot = line.project(point)\n",
    "\n",
    "    lpoint = line.interpolate(lspot)\n",
    "    ldir = np.degrees(find_dir(lpoint, point))\n",
    "    ldist = find_dist(lpoint, point)\n",
    "\n",
    "    \n",
    "    return lpoint, ldir, ldist\n",
    "    "
   ]
  },
  {
   "cell_type": "code",
   "execution_count": null,
   "metadata": {},
   "outputs": [],
   "source": []
  },
  {
   "cell_type": "code",
   "execution_count": null,
   "metadata": {},
   "outputs": [],
   "source": []
  },
  {
   "cell_type": "code",
   "execution_count": null,
   "metadata": {},
   "outputs": [],
   "source": []
  },
  {
   "cell_type": "code",
   "execution_count": null,
   "metadata": {},
   "outputs": [],
   "source": [
    "# thalwegs.loc[0]\n",
    "# thalwegs[thalwegs['Reach'] == 'UBR1'].geometry.item()\n"
   ]
  },
  {
   "cell_type": "code",
   "execution_count": null,
   "metadata": {},
   "outputs": [],
   "source": [
    "\n",
    "    "
   ]
  },
  {
   "cell_type": "code",
   "execution_count": null,
   "metadata": {},
   "outputs": [],
   "source": [
    "# ras = src.read(1)\n"
   ]
  },
  {
   "cell_type": "code",
   "execution_count": null,
   "metadata": {},
   "outputs": [],
   "source": [
    "# def raster_stats(raster, point, buffer = 2.0):\n",
    "#     pt = point.buffer(buffer)\n",
    "    \n",
    "#     mask_im, con = mask(raster, [pt], crop=True)\n",
    "# #     print(mask_im)\n",
    "#     b_mean = np.mean(mask_im)\n",
    "#     b_stdev = np.std(mask_im)\n",
    "#     return b_mean, b_stdev"
   ]
  },
  {
   "cell_type": "code",
   "execution_count": null,
   "metadata": {},
   "outputs": [],
   "source": [
    "\n",
    "\n",
    "middle = Point((484054.0 -5000), (6996682.0-5000))"
   ]
  },
  {
   "cell_type": "code",
   "execution_count": null,
   "metadata": {},
   "outputs": [],
   "source": [
    "# bmean, bstdev = raster_stats(src, middle)\n",
    "# src.bounds"
   ]
  },
  {
   "cell_type": "code",
   "execution_count": null,
   "metadata": {},
   "outputs": [],
   "source": [
    "# bmean, bstdev, middle"
   ]
  },
  {
   "cell_type": "code",
   "execution_count": null,
   "metadata": {},
   "outputs": [],
   "source": [
    "def get_geom_data(pname, point,reach, thalwegs, banklines):\n",
    "    \n",
    "    thalweg = thalwegs[thalwegs['Reach'] == reach].geometry.item()\n",
    "    \n",
    "    banks = banklines[banklines['Reach']==reach]\n",
    "    rbank = banks[banks['Bank'] == 'R'].geometry.item()\n",
    "    lbank = banks[banks['Bank'] == 'L'].geometry.item()\n",
    "    \n",
    "    tp, tdir, tdist = lin_ref(point, thalweg)\n",
    "    rp, rdir, rdist = lin_ref(point, rbank)\n",
    "    lp, ldir, ldist = lin_ref(point, lbank)\n",
    "    bp, bbfdir, bfwidth = lin_ref(rp, lbank) # grabbing channel width here because why not normalize things ;)\n",
    "\n",
    "#     pte, ptestd = raster_stats(raster,point)\n",
    "# #     pte, ptestd = raster_stats(point, raster)\n",
    "#     tpte, tptestd = raster_stats(raster,tp)\n",
    "\n",
    "#     rpte, rptestd = raster_stats(raster,rp)\n",
    "#     lpte, lptestd = raster_stats(raster, lp)\n",
    "    \n",
    "    return pname, tp, tdir,tdist, rp, rdir,rdist, lp, ldir,ldist, bfwidth, reach\n",
    "    \n",
    "    \n",
    "    \n",
    "\n",
    "\n",
    "\n",
    "    \n",
    "\n",
    "    "
   ]
  },
  {
   "cell_type": "code",
   "execution_count": null,
   "metadata": {},
   "outputs": [],
   "source": [
    "\n",
    "# src = rio.open(cfg_test['lidar'])"
   ]
  },
  {
   "cell_type": "code",
   "execution_count": null,
   "metadata": {},
   "outputs": [],
   "source": []
  },
  {
   "cell_type": "code",
   "execution_count": null,
   "metadata": {},
   "outputs": [],
   "source": [
    "\n",
    "\n",
    "cfg_test=cfg.pine_dirs\n",
    "os.chdir(cfg_test['folder'])\n",
    "points = gpd.read_file(cfg_test['points'])\n",
    "\n",
    "points.shape"
   ]
  },
  {
   "cell_type": "code",
   "execution_count": null,
   "metadata": {},
   "outputs": [],
   "source": []
  },
  {
   "cell_type": "code",
   "execution_count": null,
   "metadata": {},
   "outputs": [],
   "source": [
    "\n"
   ]
  },
  {
   "cell_type": "code",
   "execution_count": null,
   "metadata": {},
   "outputs": [],
   "source": []
  },
  {
   "cell_type": "code",
   "execution_count": null,
   "metadata": {},
   "outputs": [],
   "source": [
    "# stats = zonal_stats(tcirc,cfg_test['lidar'] )"
   ]
  },
  {
   "cell_type": "code",
   "execution_count": null,
   "metadata": {},
   "outputs": [],
   "source": [
    "for cfg_test, cat_name in zip([cfg.pine_dirs, cfg.bris_dirs, cfg.kobble_dirs, cfg.mary_dirs], ['NPR', 'Bris','kobble', 'Mary']):\n",
    "    os.chdir(cfg_test['folder'])\n",
    "    thalwegs = gpd.read_file(cfg_test['thalwegs'])\n",
    "    banklines = gpd.read_file(cfg_test['banks'])\n",
    "    points = gpd.read_file(cfg_test['points'])\n",
    "    # because im an idiot with field names had to throw in these fucking fixes\n",
    "    if 'Bank' not in list(banklines.columns):\n",
    "        banklines = banklines.rename(columns={'Banks':'Bank'})\n",
    "    if 'join_Reach' not in list(points.columns):\n",
    "        if 'Reach' in list(points.columns):\n",
    "            points = points.rename(columns = {'Reach':'join_Reach'})\n",
    "        elif 'join_reach' in list(points.columns):\n",
    "            points = points.rename(columns = {'join_reach':'join_Reach'})\n",
    "    if 'Reach' not in list(thalwegs.columns):\n",
    "        thalwegs = thalwegs.rename(columns={'reach':'Reach'})\n",
    "        banklines =banklines.rename(columns={'reach':'Reach', 'bank':'Bank'})\n",
    "    \n",
    "    if cat_name =='Mary':\n",
    "        points = points[points['join_reach'] != 'MR1B']\n",
    "        \n",
    "    run_an = lambda x: get_geom_data(x['name'],x['geometry'], x['join_Reach'], thalwegs=thalwegs, banklines=banklines)\n",
    "    lister = points.apply(run_an, axis=1)\n",
    "    name = [l[0] for l in lister]\n",
    "    tp = [l[1] for l in lister]\n",
    "\n",
    "    td = [l[2] for l in lister]\n",
    "    tdis = [l[3] for l in lister]\n",
    "\n",
    "    rp = [l[4] for l in lister]\n",
    "    rd = [l[5] for l in lister]\n",
    "    rdis= [l[6] for l in lister]\n",
    "    lp = [l[7] for l in lister]\n",
    "    ld = [l[8] for l in lister]\n",
    "    ldis = [l[9] for l in lister]\n",
    "    bfw = [l[10] for l in lister]\n",
    "    reacher = [l[11] for l in lister]\n",
    "\n",
    "\n",
    "    geom_dat = pd.DataFrame({'name':name,'thal_dist':tdis, 'thal_dir':td,\n",
    "                             'rb_dis':rdis,'rb_dir':rd,'lb_dis':ldis, \n",
    "                             'lb_dir':ld,'bfw': bfw, 'Reach':reacher })\n",
    "\n",
    "    rbpts = gpd.GeoDataFrame({'name':name, 'geometry':rp,'Reach':reacher}, geometry= 'geometry')\n",
    "    lbpts = gpd.GeoDataFrame({'name':name, 'geometry':lp,'Reach':reacher}, geometry= 'geometry')\n",
    "    tpts = gpd.GeoDataFrame({'name':name, 'geometry':tp,'Reach':reacher}, geometry= 'geometry')\n",
    "\n",
    "    rbpts['type'] = 'RB'\n",
    "    lbpts['type'] = 'LB'\n",
    "    tpts['type'] = 'thal'\n",
    "\n",
    "    pts = points[['name', 'geometry', 'join_Reach']].rename(columns = {\t'join_Reach':'Reach'})\n",
    "\n",
    "    pts['type'] = 'sl'\n",
    "\n",
    "    merged_pts = pd.concat([pts, rbpts, tpts, lbpts])\n",
    "\n",
    "    merged_buf = merged_pts.copy()\n",
    "\n",
    "    merged_buf['geometry'] = merged_buf['geometry'].buffer(2.0)\n",
    "    \n",
    "    os.chdir(r'F:\\Brisbane_Pine GIS QGIS_2018\\GIS_scripts_dendro')\n",
    "\n",
    "    geom_dat.to_csv(cat_name+'_geom_data_LR.csv')\n",
    "    \n",
    "    merged_pts.to_file(cat_name+'_merged_pts.geojson', driver='GeoJSON')\n",
    "    merged_buf.to_file(cat_name+'_merged_buf.geojson', driver='GeoJSON')\n",
    "\n",
    "    \n",
    "\n",
    "    "
   ]
  },
  {
   "cell_type": "code",
   "execution_count": null,
   "metadata": {},
   "outputs": [],
   "source": [
    "points.loc[21]"
   ]
  },
  {
   "cell_type": "code",
   "execution_count": null,
   "metadata": {},
   "outputs": [],
   "source": [
    "# note just copied and pasted this fucker to get it to work and not repeat everything\n",
    "if cat_name =='Mary':\n",
    "        points = points[points['join_Reach'] != 'MR1B']\n",
    "        \n",
    "run_an = lambda x: get_geom_data(x['name'],x['geometry'], x['join_Reach'], thalwegs=thalwegs, banklines=banklines)\n",
    "lister = points.apply(run_an, axis=1)\n",
    "name = [l[0] for l in lister]\n",
    "tp = [l[1] for l in lister]\n",
    "\n",
    "td = [l[2] for l in lister]\n",
    "tdis = [l[3] for l in lister]\n",
    "\n",
    "rp = [l[4] for l in lister]\n",
    "rd = [l[5] for l in lister]\n",
    "rdis= [l[6] for l in lister]\n",
    "lp = [l[7] for l in lister]\n",
    "ld = [l[8] for l in lister]\n",
    "ldis = [l[9] for l in lister]\n",
    "bfw = [l[10] for l in lister]\n",
    "reacher = [l[11] for l in lister]\n",
    "\n",
    "\n",
    "geom_dat = pd.DataFrame({'name':name,'thal_dist':tdis, 'thal_dir':td,\n",
    "                         'rb_dis':rdis,'rb_dir':rd,'lb_dis':ldis, \n",
    "                         'lb_dir':ld,'bfw': bfw, 'Reach':reacher })\n",
    "\n",
    "rbpts = gpd.GeoDataFrame({'name':name, 'geometry':rp,'Reach':reacher}, geometry= 'geometry')\n",
    "lbpts = gpd.GeoDataFrame({'name':name, 'geometry':lp,'Reach':reacher}, geometry= 'geometry')\n",
    "tpts = gpd.GeoDataFrame({'name':name, 'geometry':tp,'Reach':reacher}, geometry= 'geometry')\n",
    "\n",
    "rbpts['type'] = 'RB'\n",
    "lbpts['type'] = 'LB'\n",
    "tpts['type'] = 'thal'\n",
    "\n",
    "pts = points[['name', 'geometry', 'join_Reach']].rename(columns = {\t'join_Reach':'Reach'})\n",
    "\n",
    "pts['type'] = 'sl'\n",
    "\n",
    "merged_pts = pd.concat([pts, rbpts, tpts, lbpts])\n",
    "\n",
    "merged_buf = merged_pts.copy()\n",
    "\n",
    "merged_buf['geometry'] = merged_buf['geometry'].buffer(2.0)\n",
    "\n",
    "os.chdir(r'F:\\Brisbane_Pine GIS QGIS_2018\\GIS_scripts_dendro')\n",
    "\n",
    "geom_dat.to_csv(cat_name+'_geom_data_LR.csv')\n",
    "\n",
    "merged_pts.to_file(cat_name+'_merged_pts.geojson', driver='GeoJSON')\n",
    "merged_buf.to_file(cat_name+'_merged_buf.geojson', driver='GeoJSON')"
   ]
  },
  {
   "cell_type": "markdown",
   "metadata": {},
   "source": [
    "### A one off for redoing NPR after resaving it and buildign it up\n"
   ]
  },
  {
   "cell_type": "code",
   "execution_count": null,
   "metadata": {},
   "outputs": [],
   "source": [
    "for cfg_test, cat_name in zip([cfg.pine_dirs], ['NPR']):\n",
    "    os.chdir(cfg_test['folder'])\n",
    "    thalwegs = gpd.read_file(cfg_test['thalwegs'])\n",
    "    banklines = gpd.read_file(cfg_test['banks'])\n",
    "    points = gpd.read_file(cfg_test['points'])\n",
    "    # because im an idiot with field names had to throw in these fucking fixes\n",
    "    if 'Bank' not in list(banklines.columns):\n",
    "        banklines = banklines.rename(columns={'Banks':'Bank'})\n",
    "    if 'join_Reach' not in list(points.columns):\n",
    "        if 'Reach' in list(points.columns):\n",
    "            points = points.rename(columns = {'Reach':'join_Reach'})\n",
    "        elif 'join_reach' in list(points.columns):\n",
    "            points = points.rename(columns = {'join_reach':'join_Reach'})\n",
    "    if 'Reach' not in list(thalwegs.columns):\n",
    "        thalwegs = thalwegs.rename(columns={'reach':'Reach'})\n",
    "        banklines =banklines.rename(columns={'reach':'Reach', 'bank':'Bank'})\n",
    "    \n",
    "    if cat_name =='Mary':\n",
    "        points = points[points['join_reach'] != 'MR1B']\n",
    "        \n",
    "    run_an = lambda x: get_geom_data(x['name'],x['geometry'], x['join_Reach'], thalwegs=thalwegs, banklines=banklines)\n",
    "    lister = points.apply(run_an, axis=1)\n",
    "    name = [l[0] for l in lister]\n",
    "    tp = [l[1] for l in lister]\n",
    "\n",
    "    td = [l[2] for l in lister]\n",
    "    tdis = [l[3] for l in lister]\n",
    "\n",
    "    rp = [l[4] for l in lister]\n",
    "    rd = [l[5] for l in lister]\n",
    "    rdis= [l[6] for l in lister]\n",
    "    lp = [l[7] for l in lister]\n",
    "    ld = [l[8] for l in lister]\n",
    "    ldis = [l[9] for l in lister]\n",
    "    bfw = [l[10] for l in lister]\n",
    "    reacher = [l[11] for l in lister]\n",
    "\n",
    "\n",
    "    geom_dat = pd.DataFrame({'name':name,'thal_dist':tdis, 'thal_dir':td,\n",
    "                             'rb_dis':rdis,'rb_dir':rd,'lb_dis':ldis, \n",
    "                             'lb_dir':ld,'bfw': bfw, 'Reach':reacher })\n",
    "\n",
    "    rbpts = gpd.GeoDataFrame({'name':name, 'geometry':rp,'Reach':reacher}, geometry= 'geometry')\n",
    "    lbpts = gpd.GeoDataFrame({'name':name, 'geometry':lp,'Reach':reacher}, geometry= 'geometry')\n",
    "    tpts = gpd.GeoDataFrame({'name':name, 'geometry':tp,'Reach':reacher}, geometry= 'geometry')\n",
    "\n",
    "    rbpts['type'] = 'RB'\n",
    "    lbpts['type'] = 'LB'\n",
    "    tpts['type'] = 'thal'\n",
    "\n",
    "    pts = points[['name', 'geometry', 'join_Reach']].rename(columns = {\t'join_Reach':'Reach'})\n",
    "\n",
    "    pts['type'] = 'sl'\n",
    "\n",
    "    merged_pts = pd.concat([pts, rbpts, tpts, lbpts])\n",
    "\n",
    "    merged_buf = merged_pts.copy()\n",
    "\n",
    "    merged_buf['geometry'] = merged_buf['geometry'].buffer(2.0)\n",
    "    \n",
    "    os.chdir(r'E:\\Brisbane_Pine GIS QGIS_2018\\GIS_scripts_dendro')\n",
    "\n",
    "    geom_dat.to_csv(cat_name+'_geom_data_LR.csv')\n",
    "    \n",
    "    merged_pts.to_file(cat_name+'_merged_pts.geojson', driver='GeoJSON')\n",
    "    merged_buf.to_file(cat_name+'_merged_buf.geojson', driver='GeoJSON')\n"
   ]
  },
  {
   "cell_type": "markdown",
   "metadata": {},
   "source": [
    "# Part two, grabbing the end points of the thalweg for a gradient calculation"
   ]
  },
  {
   "cell_type": "code",
   "execution_count": 11,
   "metadata": {},
   "outputs": [],
   "source": [
    "def line_ends(line):\n",
    "    pts = list(line.coords)\n",
    "    top = pts[0]\n",
    "    bot = pts[-1]\n",
    "    return [Point(top),Point(bot)]"
   ]
  },
  {
   "cell_type": "code",
   "execution_count": 12,
   "metadata": {},
   "outputs": [
    {
     "data": {
      "text/plain": [
       "2.414213562373095"
      ]
     },
     "execution_count": 12,
     "metadata": {},
     "output_type": "execute_result"
    }
   ],
   "source": [
    "test_ls = LineString([(1,1), (2,2), (2,1)])\n",
    "test_ls\n",
    "list(test_ls.coords)[0]\n",
    "\n",
    "test_ls.length"
   ]
  },
  {
   "cell_type": "code",
   "execution_count": 13,
   "metadata": {},
   "outputs": [],
   "source": [
    "cfg_test = cfg.pine_dirs\n",
    "os.chdir(cfg_test['folder'])\n",
    "thalwegs = gpd.read_file(cfg_test['thalwegs'])"
   ]
  },
  {
   "cell_type": "code",
   "execution_count": 14,
   "metadata": {},
   "outputs": [
    {
     "data": {
      "text/html": [
       "<div>\n",
       "<style scoped>\n",
       "    .dataframe tbody tr th:only-of-type {\n",
       "        vertical-align: middle;\n",
       "    }\n",
       "\n",
       "    .dataframe tbody tr th {\n",
       "        vertical-align: top;\n",
       "    }\n",
       "\n",
       "    .dataframe thead th {\n",
       "        text-align: right;\n",
       "    }\n",
       "</style>\n",
       "<table border=\"1\" class=\"dataframe\">\n",
       "  <thead>\n",
       "    <tr style=\"text-align: right;\">\n",
       "      <th></th>\n",
       "      <th>id</th>\n",
       "      <th>Reach</th>\n",
       "      <th>geometry</th>\n",
       "    </tr>\n",
       "  </thead>\n",
       "  <tbody>\n",
       "    <tr>\n",
       "      <th>0</th>\n",
       "      <td>None</td>\n",
       "      <td>LC1</td>\n",
       "      <td>(LINESTRING (473813.9128900793 6989466.0442244...</td>\n",
       "    </tr>\n",
       "    <tr>\n",
       "      <th>1</th>\n",
       "      <td>None</td>\n",
       "      <td>LC2</td>\n",
       "      <td>(LINESTRING (474458.6033456232 6990079.7248793...</td>\n",
       "    </tr>\n",
       "    <tr>\n",
       "      <th>2</th>\n",
       "      <td>None</td>\n",
       "      <td>LC3</td>\n",
       "      <td>(LINESTRING (476084.3086366151 6992433.1708099...</td>\n",
       "    </tr>\n",
       "    <tr>\n",
       "      <th>3</th>\n",
       "      <td>None</td>\n",
       "      <td>LC4</td>\n",
       "      <td>(LINESTRING (477864.7330391073 6993715.7889453...</td>\n",
       "    </tr>\n",
       "    <tr>\n",
       "      <th>4</th>\n",
       "      <td>None</td>\n",
       "      <td>NPR1</td>\n",
       "      <td>(LINESTRING (477400.3282859836 6996078.3893649...</td>\n",
       "    </tr>\n",
       "  </tbody>\n",
       "</table>\n",
       "</div>"
      ],
      "text/plain": [
       "     id Reach                                           geometry\n",
       "0  None   LC1  (LINESTRING (473813.9128900793 6989466.0442244...\n",
       "1  None   LC2  (LINESTRING (474458.6033456232 6990079.7248793...\n",
       "2  None   LC3  (LINESTRING (476084.3086366151 6992433.1708099...\n",
       "3  None   LC4  (LINESTRING (477864.7330391073 6993715.7889453...\n",
       "4  None  NPR1  (LINESTRING (477400.3282859836 6996078.3893649..."
      ]
     },
     "execution_count": 14,
     "metadata": {},
     "output_type": "execute_result"
    }
   ],
   "source": [
    "thalwegs.head()"
   ]
  },
  {
   "cell_type": "code",
   "execution_count": 15,
   "metadata": {},
   "outputs": [],
   "source": [
    "def get_ends(line, reach,ptlist,reachlist,lenlist):\n",
    "    if type(line) is MultiLineString:\n",
    "        line = line[0]\n",
    "    end_points = line_ends(line)\n",
    "    ptlist += end_points\n",
    "    reachlist += [reach,reach]\n",
    "    lenlist += [line.length, line.length]\n",
    "    \n"
   ]
  },
  {
   "cell_type": "code",
   "execution_count": 16,
   "metadata": {},
   "outputs": [],
   "source": [
    "ptlist = []\n",
    "reachlist = []\n",
    "lenlist = []\n",
    "applyer = lambda x: get_ends(x['geometry'], x['Reach'], ptlist = ptlist, reachlist = reachlist, lenlist = lenlist)\n",
    "thalwegs.apply(applyer, axis=1)\n",
    "\n",
    "out = {'geometry':ptlist, 'Reach':reachlist, 'linelength':lenlist}"
   ]
  },
  {
   "cell_type": "code",
   "execution_count": null,
   "metadata": {},
   "outputs": [],
   "source": []
  },
  {
   "cell_type": "code",
   "execution_count": null,
   "metadata": {},
   "outputs": [],
   "source": []
  },
  {
   "cell_type": "code",
   "execution_count": 17,
   "metadata": {},
   "outputs": [],
   "source": [
    "for cfg_test, cat_name in zip([cfg.pine_dirs, cfg.bris_dirs, cfg.kobble_dirs, cfg.mary_dirs], ['NPR', 'Bris','kobble', 'Mary']):\n",
    "    os.chdir(cfg_test['folder'])\n",
    "    thalwegs = gpd.read_file(cfg_test['thalwegs'])\n",
    "    if 'Reach' not in list(thalwegs.columns):\n",
    "        thalwegs = thalwegs.rename(columns={'reach':'Reach'})\n",
    "    \n",
    "    ptlist = []\n",
    "    reachlist = []\n",
    "    lenlist = []\n",
    "    applyer = lambda x: get_ends(x['geometry'], x['Reach'], ptlist = ptlist, reachlist = reachlist, lenlist = lenlist)\n",
    "    thalwegs.apply(applyer, axis=1)\n",
    "    \n",
    "    out = {'geometry':ptlist, 'Reach':reachlist, 'linelength':lenlist}\n",
    "    gdf_out = gpd.GeoDataFrame(out, geometry = 'geometry')\n",
    "    gdf_out.crs = thalwegs.crs\n",
    "    \n",
    "    os.chdir(r'E:\\Brisbane_Pine GIS QGIS_2018\\GIS_scripts_dendro')\n",
    "    gdf_out.to_file(cat_name+'_end_pts.geojson', driver='GeoJSON')"
   ]
  },
  {
   "cell_type": "code",
   "execution_count": 9,
   "metadata": {},
   "outputs": [
    {
     "data": {
      "text/html": [
       "<div>\n",
       "<style scoped>\n",
       "    .dataframe tbody tr th:only-of-type {\n",
       "        vertical-align: middle;\n",
       "    }\n",
       "\n",
       "    .dataframe tbody tr th {\n",
       "        vertical-align: top;\n",
       "    }\n",
       "\n",
       "    .dataframe thead th {\n",
       "        text-align: right;\n",
       "    }\n",
       "</style>\n",
       "<table border=\"1\" class=\"dataframe\">\n",
       "  <thead>\n",
       "    <tr style=\"text-align: right;\">\n",
       "      <th></th>\n",
       "      <th>id</th>\n",
       "      <th>reach</th>\n",
       "      <th>geometry</th>\n",
       "    </tr>\n",
       "  </thead>\n",
       "  <tbody>\n",
       "    <tr>\n",
       "      <th>0</th>\n",
       "      <td>0.0</td>\n",
       "      <td>MR1</td>\n",
       "      <td>(LINESTRING (471502.7699508757 7043643.6756773...</td>\n",
       "    </tr>\n",
       "    <tr>\n",
       "      <th>1</th>\n",
       "      <td>1.0</td>\n",
       "      <td>MR2</td>\n",
       "      <td>(LINESTRING (473039.8303955022 7057845.3384054...</td>\n",
       "    </tr>\n",
       "    <tr>\n",
       "      <th>2</th>\n",
       "      <td>2.0</td>\n",
       "      <td>MR3</td>\n",
       "      <td>(LINESTRING (473379.1643790967 7058273.8623458...</td>\n",
       "    </tr>\n",
       "    <tr>\n",
       "      <th>3</th>\n",
       "      <td>3.0</td>\n",
       "      <td>MR4</td>\n",
       "      <td>(LINESTRING (473298.658448137 7059506.55797679...</td>\n",
       "    </tr>\n",
       "    <tr>\n",
       "      <th>4</th>\n",
       "      <td>NaN</td>\n",
       "      <td>MR1B</td>\n",
       "      <td>(LINESTRING (468637.1523883796 7049798.8285008...</td>\n",
       "    </tr>\n",
       "  </tbody>\n",
       "</table>\n",
       "</div>"
      ],
      "text/plain": [
       "    id reach                                           geometry\n",
       "0  0.0   MR1  (LINESTRING (471502.7699508757 7043643.6756773...\n",
       "1  1.0   MR2  (LINESTRING (473039.8303955022 7057845.3384054...\n",
       "2  2.0   MR3  (LINESTRING (473379.1643790967 7058273.8623458...\n",
       "3  3.0   MR4  (LINESTRING (473298.658448137 7059506.55797679...\n",
       "4  NaN  MR1B  (LINESTRING (468637.1523883796 7049798.8285008..."
      ]
     },
     "execution_count": 9,
     "metadata": {},
     "output_type": "execute_result"
    }
   ],
   "source": [
    "thalwegs"
   ]
  },
  {
   "cell_type": "code",
   "execution_count": null,
   "metadata": {},
   "outputs": [],
   "source": []
  }
 ],
 "metadata": {
  "kernelspec": {
   "display_name": "Python 3",
   "language": "python",
   "name": "python3"
  },
  "language_info": {
   "codemirror_mode": {
    "name": "ipython",
    "version": 3
   },
   "file_extension": ".py",
   "mimetype": "text/x-python",
   "name": "python",
   "nbconvert_exporter": "python",
   "pygments_lexer": "ipython3",
   "version": "3.7.3"
  }
 },
 "nbformat": 4,
 "nbformat_minor": 2
}
