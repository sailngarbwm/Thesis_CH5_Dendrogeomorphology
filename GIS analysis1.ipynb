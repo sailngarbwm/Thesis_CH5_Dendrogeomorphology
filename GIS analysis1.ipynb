{
 "cells": [
  {
   "cell_type": "code",
   "execution_count": 1,
   "metadata": {},
   "outputs": [],
   "source": [
    "from config import Config\n",
    "import numpy as np\n",
    "from shapely.geometry import LineString, Point, MultiPoint, MultiLineString\n",
    "from shapely.affinity import scale\n",
    "\n",
    "# from rasterstats import zonal_stats\n",
    "# import rasterio as rio\n",
    "import geopandas as gpd\n",
    "# from rasterio.mask import mask\n",
    "import os\n",
    "# import rasterstats as rasstats\n",
    "\n",
    "out_crs = 'EPSG:28356'\n",
    "import pandas as pd\n",
    "\n",
    "cfg = Config()"
   ]
  },
  {
   "cell_type": "code",
   "execution_count": 2,
   "metadata": {},
   "outputs": [
    {
     "output_type": "execute_result",
     "data": {
      "text/plain": "{'folder': 'E:\\\\Brisbane_Pine GIS QGIS_2018\\\\Brisbane GIS data\\\\Lidar_Pine\\\\Pine shapefiles',\n 'lidar': 'pine_lidar_clip.asc',\n 'thalwegs': 'NPR_thalweg.geojson',\n 'banks': 'NPR_banks.geojson',\n 'points': 'NPR_data_points.geojson'}"
     },
     "metadata": {},
     "execution_count": 2
    }
   ],
   "source": [
    "cfg_test = cfg.pine_dirs\n",
    "cfg_test"
   ]
  },
  {
   "cell_type": "code",
   "execution_count": null,
   "metadata": {},
   "outputs": [],
   "source": []
  },
  {
   "cell_type": "code",
   "execution_count": 3,
   "metadata": {},
   "outputs": [],
   "source": [
    "line = LineString([(0,0), (3,3)])\n",
    "line2 = LineString([(0,1), (1,0)])\n",
    "line3 = LineString([(0,3), (1,3)])\n",
    "\n",
    "pointr = Point(2,1)"
   ]
  },
  {
   "cell_type": "code",
   "execution_count": 4,
   "metadata": {},
   "outputs": [
    {
     "output_type": "execute_result",
     "data": {
      "text/plain": "'GEOMETRYCOLLECTION EMPTY'"
     },
     "metadata": {},
     "execution_count": 4
    }
   ],
   "source": [
    "line.intersection(line3).wkt"
   ]
  },
  {
   "cell_type": "code",
   "execution_count": 5,
   "metadata": {},
   "outputs": [],
   "source": [
    "lspot = line.project(pointr)\n",
    "\n",
    "lpoint = line.interpolate(lspot)\n",
    "lpoint2 = line.interpolate(lspot-0.3)"
   ]
  },
  {
   "cell_type": "code",
   "execution_count": 6,
   "metadata": {},
   "outputs": [
    {
     "output_type": "execute_result",
     "data": {
      "text/plain": "'LINESTRING (-1.5 -1.5, 4.5 4.5)'"
     },
     "metadata": {},
     "execution_count": 6
    }
   ],
   "source": [
    "scale(line, 2, 2).wkt"
   ]
  },
  {
   "cell_type": "code",
   "execution_count": 7,
   "metadata": {},
   "outputs": [],
   "source": [
    "lpoint = line.interpolate(100)"
   ]
  },
  {
   "cell_type": "code",
   "execution_count": 8,
   "metadata": {},
   "outputs": [
    {
     "output_type": "execute_result",
     "data": {
      "text/plain": "'POINT (3 3)'"
     },
     "metadata": {},
     "execution_count": 8
    }
   ],
   "source": [
    "lpoint.wkt"
   ]
  },
  {
   "cell_type": "code",
   "execution_count": 9,
   "metadata": {},
   "outputs": [
    {
     "output_type": "execute_result",
     "data": {
      "text/plain": "(1.0, 1.8213203435596423)"
     },
     "metadata": {},
     "execution_count": 9
    }
   ],
   "source": [
    "line.project(lpoint, normalized=True), lspot-0.3"
   ]
  },
  {
   "cell_type": "code",
   "execution_count": null,
   "metadata": {},
   "outputs": [],
   "source": []
  },
  {
   "cell_type": "code",
   "execution_count": 10,
   "metadata": {},
   "outputs": [],
   "source": [
    "def find_dir(p1, p2):\n",
    "    p1 = np.array(p1.xy)\n",
    "    p2 = np.array(p2.xy)\n",
    "    dx = p2[0][0] - p1[0][0]\n",
    "    dy = p2[1][0] - p1[1][0]   \n",
    "    return np.arctan2(dy,dx)\n",
    "\n",
    "\n",
    "def find_dist(p1, p2):\n",
    "    p1 = np.array(p1.xy)\n",
    "    p2 = np.array(p2.xy)\n",
    "    dx = p2[0][0] - p1[0][0]\n",
    "    dy = p2[1][0] - p1[1][0]  \n",
    "    \n",
    "    dist = np.sqrt(dx**2+dy**2)\n",
    "    return dist\n",
    "    \n",
    "def lin_ref(point, line):\n",
    "    lspot = line.project(point)\n",
    "\n",
    "    lpoint = line.interpolate(lspot)\n",
    "    ldir = np.degrees(find_dir(lpoint, point))\n",
    "    ldist = find_dist(lpoint, point)\n",
    "\n",
    "    \n",
    "    return lpoint, ldir, ldist\n",
    "    "
   ]
  },
  {
   "cell_type": "code",
   "execution_count": 11,
   "metadata": {},
   "outputs": [
    {
     "output_type": "error",
     "ename": "NameError",
     "evalue": "name 'thalwegs' is not defined",
     "traceback": [
      "\u001b[1;31m---------------------------------------------------------------------------\u001b[0m",
      "\u001b[1;31mNameError\u001b[0m                                 Traceback (most recent call last)",
      "\u001b[1;32m<ipython-input-11-999a1ed583c9>\u001b[0m in \u001b[0;36m<module>\u001b[1;34m\u001b[0m\n\u001b[1;32m----> 1\u001b[1;33m \u001b[0mthalwegs\u001b[0m\u001b[1;33m.\u001b[0m\u001b[0mhead\u001b[0m\u001b[1;33m(\u001b[0m\u001b[1;33m)\u001b[0m\u001b[1;33m\u001b[0m\u001b[1;33m\u001b[0m\u001b[0m\n\u001b[0m",
      "\u001b[1;31mNameError\u001b[0m: name 'thalwegs' is not defined"
     ]
    }
   ],
   "source": [
    "thalwegs.head()"
   ]
  },
  {
   "cell_type": "code",
   "execution_count": null,
   "metadata": {},
   "outputs": [],
   "source": []
  },
  {
   "cell_type": "code",
   "execution_count": 12,
   "metadata": {},
   "outputs": [
    {
     "output_type": "error",
     "ename": "NameError",
     "evalue": "name 'thalwegs' is not defined",
     "traceback": [
      "\u001b[1;31m---------------------------------------------------------------------------\u001b[0m",
      "\u001b[1;31mNameError\u001b[0m                                 Traceback (most recent call last)",
      "\u001b[1;32m<ipython-input-12-759af4cc6546>\u001b[0m in \u001b[0;36m<module>\u001b[1;34m\u001b[0m\n\u001b[1;32m----> 1\u001b[1;33m \u001b[0mtype\u001b[0m\u001b[1;33m(\u001b[0m\u001b[0mthalwegs\u001b[0m\u001b[1;33m[\u001b[0m\u001b[0mthalwegs\u001b[0m\u001b[1;33m[\u001b[0m\u001b[1;34m'Reach'\u001b[0m\u001b[1;33m]\u001b[0m \u001b[1;33m==\u001b[0m \u001b[1;34m'LC1'\u001b[0m\u001b[1;33m]\u001b[0m\u001b[1;33m.\u001b[0m\u001b[0mgeometry\u001b[0m\u001b[1;33m)\u001b[0m\u001b[1;33m\u001b[0m\u001b[1;33m\u001b[0m\u001b[0m\n\u001b[0m",
      "\u001b[1;31mNameError\u001b[0m: name 'thalwegs' is not defined"
     ]
    }
   ],
   "source": [
    "type(thalwegs[thalwegs['Reach'] == 'LC1'].geometry)"
   ]
  },
  {
   "cell_type": "code",
   "execution_count": 13,
   "metadata": {},
   "outputs": [
    {
     "output_type": "error",
     "ename": "NameError",
     "evalue": "name 'thalwegs' is not defined",
     "traceback": [
      "\u001b[1;31m---------------------------------------------------------------------------\u001b[0m",
      "\u001b[1;31mNameError\u001b[0m                                 Traceback (most recent call last)",
      "\u001b[1;32m<ipython-input-13-e02122ae41ec>\u001b[0m in \u001b[0;36m<module>\u001b[1;34m\u001b[0m\n\u001b[0;32m      1\u001b[0m \u001b[1;31m# thalwegs.loc[0]\u001b[0m\u001b[1;33m\u001b[0m\u001b[1;33m\u001b[0m\u001b[1;33m\u001b[0m\u001b[0m\n\u001b[0;32m      2\u001b[0m \u001b[1;31m# thalwegs[thalwegs['Reach'] == 'UBR1'].geometry.item()\u001b[0m\u001b[1;33m\u001b[0m\u001b[1;33m\u001b[0m\u001b[1;33m\u001b[0m\u001b[0m\n\u001b[1;32m----> 3\u001b[1;33m \u001b[0mthalwegs\u001b[0m\u001b[1;33m.\u001b[0m\u001b[0mhead\u001b[0m\u001b[1;33m(\u001b[0m\u001b[1;33m)\u001b[0m\u001b[1;33m\u001b[0m\u001b[1;33m\u001b[0m\u001b[0m\n\u001b[0m",
      "\u001b[1;31mNameError\u001b[0m: name 'thalwegs' is not defined"
     ]
    }
   ],
   "source": [
    "# thalwegs.loc[0]\n",
    "# thalwegs[thalwegs['Reach'] == 'UBR1'].geometry.item()\n",
    "thalwegs.head()"
   ]
  },
  {
   "cell_type": "code",
   "execution_count": 14,
   "metadata": {
    "tags": []
   },
   "outputs": [],
   "source": [
    "# for reach in list(thalwegs['Reach'].unique()):\n",
    "#     # print(weg)\n",
    "#     print(reach, type(thalwegs[thalwegs['Reach']==reach].geometry.iloc[0]), thalwegs[thalwegs['Reach']==reach].geometry.shape)\n",
    "#     LineString(thalwegs[thalwegs['Reach']==reach].geometry.iloc[0][0])\n",
    "    "
   ]
  },
  {
   "cell_type": "code",
   "execution_count": 15,
   "metadata": {},
   "outputs": [
    {
     "output_type": "error",
     "ename": "NameError",
     "evalue": "name 'thalwegs' is not defined",
     "traceback": [
      "\u001b[1;31m---------------------------------------------------------------------------\u001b[0m",
      "\u001b[1;31mNameError\u001b[0m                                 Traceback (most recent call last)",
      "\u001b[1;32m<ipython-input-15-9d6c97aa20ce>\u001b[0m in \u001b[0;36m<module>\u001b[1;34m\u001b[0m\n\u001b[0;32m      1\u001b[0m \u001b[1;31m# ras = src.read(1)\u001b[0m\u001b[1;33m\u001b[0m\u001b[1;33m\u001b[0m\u001b[1;33m\u001b[0m\u001b[0m\n\u001b[1;32m----> 2\u001b[1;33m \u001b[0mthalwegs\u001b[0m\u001b[1;33m[\u001b[0m\u001b[0mthalwegs\u001b[0m\u001b[1;33m[\u001b[0m\u001b[1;34m'Reach'\u001b[0m\u001b[1;33m]\u001b[0m\u001b[1;33m==\u001b[0m\u001b[0mreach\u001b[0m\u001b[1;33m]\u001b[0m\u001b[1;33m.\u001b[0m\u001b[0mgeometry\u001b[0m\u001b[1;33m.\u001b[0m\u001b[0miloc\u001b[0m\u001b[1;33m[\u001b[0m\u001b[1;36m0\u001b[0m\u001b[1;33m]\u001b[0m\u001b[1;33m\u001b[0m\u001b[1;33m\u001b[0m\u001b[0m\n\u001b[0m\u001b[0;32m      3\u001b[0m \u001b[1;33m\u001b[0m\u001b[0m\n",
      "\u001b[1;31mNameError\u001b[0m: name 'thalwegs' is not defined"
     ]
    }
   ],
   "source": [
    "# ras = src.read(1)\n",
    "thalwegs[thalwegs['Reach']==reach].geometry.iloc[0]\n",
    "    "
   ]
  },
  {
   "cell_type": "code",
   "execution_count": 16,
   "metadata": {},
   "outputs": [],
   "source": [
    "# def raster_stats(raster, point, buffer = 2.0):\n",
    "#     pt = point.buffer(buffer)\n",
    "    \n",
    "#     mask_im, con = mask(raster, [pt], crop=True)\n",
    "# #     print(mask_im)\n",
    "#     b_mean = np.mean(mask_im)\n",
    "#     b_stdev = np.std(mask_im)\n",
    "#     return b_mean, b_stdev"
   ]
  },
  {
   "cell_type": "code",
   "execution_count": 17,
   "metadata": {},
   "outputs": [],
   "source": [
    "\n",
    "\n",
    "# middle = Point((484054.0 -5000), (6996682.0-5000))"
   ]
  },
  {
   "cell_type": "code",
   "execution_count": 18,
   "metadata": {},
   "outputs": [],
   "source": [
    "# bmean, bstdev = raster_stats(src, middle)\n",
    "# src.bounds"
   ]
  },
  {
   "cell_type": "code",
   "execution_count": 19,
   "metadata": {},
   "outputs": [],
   "source": [
    "# bmean, bstdev, mid\n",
    "# LineString([Point((1,1)), Point((3,3))])"
   ]
  },
  {
   "cell_type": "code",
   "execution_count": 20,
   "metadata": {},
   "outputs": [],
   "source": [
    "def get_geom_data(pname, point,reach, thalwegs, banklines):\n",
    "    \n",
    "    thalweg = thalwegs[thalwegs['Reach'] == reach].geometry\n",
    "    #0.6.1 geometry array change, somtiems these are multilines and come off as geoseries\n",
    "    if type(thalweg) ==gpd.geoseries.GeoSeries:\n",
    "        thalweg = thalweg.iloc[0]\n",
    "    \n",
    "    banks = banklines[banklines['Reach']==reach]\n",
    "\n",
    "    rbank = banks[banks['Bank'] == 'R'].geometry\n",
    "    if type(rbank) ==gpd.geoseries.GeoSeries:\n",
    "        rbank = rbank.iloc[0]\n",
    "    if type(rbank) == MultiLineString:\n",
    "        rbank = LineString(rbank[0])\n",
    "\n",
    "    lbank = banks[banks['Bank'] == 'L'].geometry\n",
    "    if type(lbank) ==gpd.geoseries.GeoSeries:\n",
    "        lbank = lbank.iloc[0]\n",
    "    if type(lbank) == MultiLineString:\n",
    "        lbank = LineString(lbank[0])\n",
    "    \n",
    "    tp, tdir, tdist = lin_ref(point, thalweg)\n",
    "    rp, rdir, rdist = lin_ref(point, rbank)\n",
    "    lp, ldir, ldist = lin_ref(point, lbank)\n",
    "    bp, bbfdir, bfwidth = lin_ref(rp, lbank) # grabbing channel width here because why not normalize things ;)\n",
    "    # new analysis, going to project a line between sample and thalweg, and get bank points from that\n",
    "   \n",
    "\n",
    "    point = Point(xy[:2] for xy in list(point.coords))\n",
    "    print(point, tp)\n",
    "    tline = LineString([point, tp])\n",
    "    tscale = 1.25*bfwidth/tdist\n",
    "    tline = scale(tline, tscale, tscale)\n",
    "    rp = rbank.intersection(tline)\n",
    "    if rp.wkt == 'GEOMETRYCOLLECTION EMPTY':\n",
    "        \n",
    "        print('line too small scalling up to rb')\n",
    "        ct=0\n",
    "        while rp.wkt == 'GEOMETRYCOLLECTION EMPTY'and (ct<10):\n",
    "            tline = scale(tline, 1.2, 1.2)\n",
    "            rp = rbank.intersection(tline)\n",
    "            ct+=1\n",
    "    lp = lbank.intersection(tline)\n",
    "    if lp.wkt == 'GEOMETRYCOLLECTION EMPTY':\n",
    "        print('line too small scalling up to lb')\n",
    "        ct = 0\n",
    "        while (lp.wkt == 'GEOMETRYCOLLECTION EMPTY') and (ct<10):\n",
    "            tline = scale(tline, 1.2, 1.2)\n",
    "            lp = lbank.intersection(tline)\n",
    "            ct+=1\n",
    "    if lp.wkt == 'GEOMETRYCOLLECTION EMPTY':\n",
    "        lp, ldir, ldist = lin_ref(point, lbank)\n",
    "    else:\n",
    "\n",
    "        ldir = np.degrees(find_dir(lp, point))\n",
    "        ldist = find_dist(lp, point)\n",
    "        \n",
    "    if rp.wkt == 'GEOMETRYCOLLECTION EMPTY':\n",
    "        rp, rdir, rdist = lin_ref(point, rbank)\n",
    "    else:\n",
    "        rdir = np.degrees(find_dir(rp, point))\n",
    "        rdist = find_dist(rp, point)\n",
    "    \n",
    "    bp, bbfdir, bfwidth = lin_ref(rp, lbank)\n",
    "\n",
    "#     pte, ptestd = raster_stats(raster,point)\n",
    "# #     pte, ptestd = raster_stats(point, raster)\n",
    "#     tpte, tptestd = raster_stats(raster,tp)\n",
    "\n",
    "#     rpte, rptestd = raster_stats(raster,rp)\n",
    "#     lpte, lptestd = raster_stats(raster, lp)\n",
    "    \n",
    "    return pname, tp, tdir,tdist, rp, rdir,rdist, lp, ldir,ldist, bfwidth, reach, tline\n",
    "    \n",
    "    \n",
    "    \n",
    "\n",
    "\n",
    "\n",
    "    \n",
    "\n",
    "    "
   ]
  },
  {
   "cell_type": "code",
   "execution_count": 21,
   "metadata": {},
   "outputs": [],
   "source": [
    "\n",
    "# src = rio.open(cfg_test['lidar'])"
   ]
  },
  {
   "cell_type": "code",
   "execution_count": 22,
   "metadata": {},
   "outputs": [
    {
     "output_type": "execute_result",
     "data": {
      "text/plain": "'0.6.1'"
     },
     "metadata": {},
     "execution_count": 22
    }
   ],
   "source": [
    "gpd.__version__\n"
   ]
  },
  {
   "cell_type": "code",
   "execution_count": 23,
   "metadata": {},
   "outputs": [
    {
     "output_type": "execute_result",
     "data": {
      "text/plain": "(127, 15)"
     },
     "metadata": {},
     "execution_count": 23
    }
   ],
   "source": [
    "\n",
    "\n",
    "cfg_test=cfg.pine_dirs\n",
    "os.chdir(cfg_test['folder'])\n",
    "points = gpd.read_file(cfg_test['points'])\n",
    "\n",
    "points.shape"
   ]
  },
  {
   "cell_type": "code",
   "execution_count": null,
   "metadata": {},
   "outputs": [],
   "source": []
  },
  {
   "cell_type": "code",
   "execution_count": 24,
   "metadata": {},
   "outputs": [
    {
     "output_type": "stream",
     "text": "\u001b[1;31mInit signature:\u001b[0m \u001b[0mgpd\u001b[0m\u001b[1;33m.\u001b[0m\u001b[0mGeoDataFrame\u001b[0m\u001b[1;33m(\u001b[0m\u001b[1;33m*\u001b[0m\u001b[0margs\u001b[0m\u001b[1;33m,\u001b[0m \u001b[1;33m**\u001b[0m\u001b[0mkwargs\u001b[0m\u001b[1;33m)\u001b[0m\u001b[1;33m\u001b[0m\u001b[1;33m\u001b[0m\u001b[0m\n\u001b[1;31mDocstring:\u001b[0m     \nA GeoDataFrame object is a pandas.DataFrame that has a column\nwith geometry. In addition to the standard DataFrame constructor arguments,\nGeoDataFrame also accepts the following keyword arguments:\n\nParameters\n----------\ncrs : str (optional)\n    Coordinate system\ngeometry : str or array (optional)\n    If str, column to use as geometry. If array, will be set as 'geometry'\n    column on GeoDataFrame.\n\u001b[1;31mFile:\u001b[0m           c:\\users\\garberj\\.conda\\envs\\veg_an\\lib\\site-packages\\geopandas\\geodataframe.py\n\u001b[1;31mType:\u001b[0m           type\n\u001b[1;31mSubclasses:\u001b[0m     \n"
    }
   ],
   "source": [
    "\n",
    "?gpd.GeoDataFrame"
   ]
  },
  {
   "cell_type": "code",
   "execution_count": null,
   "metadata": {},
   "outputs": [],
   "source": []
  },
  {
   "cell_type": "code",
   "execution_count": 25,
   "metadata": {},
   "outputs": [],
   "source": [
    "# stats = zonal_stats(tcirc,cfg_test['lidar'] )"
   ]
  },
  {
   "cell_type": "code",
   "execution_count": 26,
   "metadata": {
    "tags": [
     "outputPrepend"
    ]
   },
   "outputs": [
    {
     "output_type": "stream",
     "name": "stdout",
     "text": "029.9326740791 6990515.861286562)\nPOINT (481015.9476290083 6990508.660123247) POINT (481017.7340491715 6990505.549288135)\nPOINT (483237.4092326298 6989727.657384681) POINT (483274.5416912902 6989671.958696692)\nline too small scalling up to rb\nPOINT (483217.1704775327 6989755.320791477) POINT (483199.9522222055 6989669.27284944)\nline too small scalling up to rb\nPOINT (483391.523871986 6989705.268993303) POINT (483383.0537065335 6989657.16484611)\nline too small scalling up to rb\nPOINT (483225.1389715098 6989647.780616952) POINT (483230.889248086 6989657.090588552)\nline too small scalling up to lb\nPOINT (483221.2796804267 6989645.781662293) POINT (483228.9893815455 6989658.264035532)\nline too small scalling up to lb\nPOINT (483229.8975772418 6989643.799579347) POINT (483236.1136745581 6989653.863736907)\nline too small scalling up to lb\nPOINT (483334.7619505189 6989793.914091243) POINT (483299.7392451121 6989680.128341471)\nline too small scalling up to rb\nPOINT (483718.2894028634 6989645.114751792) POINT (483707.4260127211 6989682.050278277)\nline too small scalling up to lb\nPOINT (483707.0957638589 6989647.97989546) POINT (483697.8991832291 6989679.248269604)\nline too small scalling up to lb\nPOINT (483703.5378368993 6989642.658595255) POINT (483693.184051354 6989677.861466111)\nline too small scalling up to lb\nPOINT (483701.5618427126 6989639.222344458) POINT (483690.4351862659 6989677.052976379)\nline too small scalling up to lb\nPOINT (483724.1102423769 6989661.62608571) POINT (483717.2530382064 6989684.94057989)\nPOINT (481626.0731439443 6990250.392854059) POINT (481598.0406595455 6990232.554000351)\nline too small scalling up to rb\nPOINT (481643.4531270331 6990082.944754558) POINT (481671.5439418106 6990085.603555956)\nline too small scalling up to lb\nPOINT (481598.5207748006 6990131.613972496) POINT (481625.0708397648 6990146.357806934)\nline too small scalling up to lb\nPOINT (481540.0478688421 6990162.20850232) POINT (481611.2927152631 6990176.836688408)\nline too small scalling up to lb\nPOINT (481549.9635004946 6990153.694489963) POINT (481611.2927152631 6990176.836688408)\nline too small scalling up to lb\nPOINT (481434.673279689 6990233.05044678) POINT (481433.208086025 6990239.00575006)\nPOINT (481407.2980998156 6990129.445938755) POINT (481384.1624204476 6990226.938959323)\nline too small scalling up to lb\nPOINT (480638.9442904938 6990499.991968534) POINT (480716.5496605027 6990388.93630195)\nline too small scalling up to rb\nline too small scalling up to lb\nPOINT (479974.5417111344 6992153.626902055) POINT (479972.4165957073 6992154.841253728)\nline too small scalling up to rb\nPOINT (474558.5804567001 6990476.942985695) POINT (474563.0865231042 6990470.525254756)\nline too small scalling up to rb\nPOINT (474562.9612666484 6990465.543315206) POINT (474560.6596947982 6990468.821311477)\nPOINT (474561.7717438455 6990466.094694915) POINT (474560.1222581875 6990468.443962367)\nPOINT (474547.7489126558 6990446.6823115) POINT (474542.3812838244 6990456.075661955)\nPOINT (474499.3706728573 6990422.990344075) POINT (474495.7057632389 6990429.403935906)\nline too small scalling up to lb\nPOINT (474501.9461866008 6990422.663345445) POINT (474497.5064434205 6990430.432896011)\nline too small scalling up to lb\nPOINT (474392.9594748521 6990351.439445222) POINT (474419.4776562576 6990351.055123752)\nline too small scalling up to lb\nPOINT (474725.7670033626 6990710.663448934) POINT (474740.4620496723 6990700.151663983)\nline too small scalling up to rb\nPOINT (474721.2991822869 6990716.192527234) POINT (474741.566072921 6990701.695043422)\nline too small scalling up to rb\nPOINT (473920.5456579477 6989707.029148778) POINT (473930.2233909701 6989717.536401774)\nline too small scalling up to lb\nPOINT (475008.9529993235 6990933.760806961) POINT (475015.3086904155 6990925.938417925)\nline too small scalling up to lb\nPOINT (475091.9463672539 6991525.625962751) POINT (475115.4173136357 6991510.794187876)\nline too small scalling up to rb\nPOINT (475087.8711642253 6991582.217883459) POINT (475136.26141151 6991530.175542041)\nline too small scalling up to rb\nPOINT (475087.9396196295 6991548.102894051) POINT (475119.2856816661 6991514.391091484)\nline too small scalling up to rb\nPOINT (476103.7145485012 6992470.431453168) POINT (476087.4259612764 6992471.747702641)\nline too small scalling up to lb\nPOINT (476081.1392387781 6992466.400520502) POINT (476086.9558833753 6992465.930488615)\nline too small scalling up to rb\nPOINT (476071.3034076355 6992533.393298809) POINT (476094.3590275667 6992530.48712823)\nline too small scalling up to rb\nPOINT (478182.1228477851 6993838.191259209) POINT (478197.3519693685 6993868.649502378)\nline too small scalling up to lb\nPOINT (476203.4140956044 6992647.622420827) POINT (476187.6039635411 6992667.007017531)\nline too small scalling up to lb\nPOINT (476207.5811809517 6992643.97522011) POINT (476188.3200411153 6992667.591052432)\nline too small scalling up to lb\nPOINT (476207.1854070114 6992643.752935649) POINT (476187.9734959498 6992667.308409211)\nline too small scalling up to lb\nPOINT (476202.8518435204 6992630.896107659) POINT (476179.0739296589 6992660.049897698)\nline too small scalling up to lb\nPOINT (476233.1372431763 6992643.359570658) POINT (476203.3655711466 6992679.862229408)\nline too small scalling up to lb\nPOINT (476226.1808758725 6992655.308677279) POINT (476205.0406519627 6992681.228430073)\nline too small scalling up to lb\nPOINT (478179.3783719477 6993821.572016087) POINT (478143.7075737949 6993844.139255735)\nline too small scalling up to lb\nPOINT (478182.0724093003 6993810.500463868) POINT (478139.4753554945 6993837.449620357)\nline too small scalling up to lb\nPOINT (478180.6974507804 6993803.741516951) POINT (478136.0285454103 6993832.001436676)\nline too small scalling up to lb\nPOINT (478183.1253004369 6993831.436486948) POINT (478200.8558403941 6993866.897566865)\nline too small scalling up to lb\nPOINT (478164.0193831971 6993824.314105943) POINT (478140.5562490778 6993839.158129569)\nline too small scalling up to lb\nPOINT (478141.4349330474 6993823.720583651) POINT (478133.8325081632 6993828.530281027)\nline too small scalling up to lb\nPOINT (478157.2178097083 6993805.250944866) POINT (478129.9990647236 6993822.470967203)\nline too small scalling up to lb\nPOINT (478129.9321868168 6993774.189356562) POINT (478107.9102814246 6993788.641231976)\nline too small scalling up to lb\nPOINT (478116.3873145606 6993759.32328858) POINT (478097.0138402311 6993772.037131109)\nline too small scalling up to lb\nPOINT (478249.6147833786 6993819.590663598) POINT (478258.342278917 6993832.346234)\nline too small scalling up to lb\nPOINT (478210.3459176832 6993786.736067714) POINT (478246.9064764027 6993840.170730458)\nline too small scalling up to lb\nPOINT (477536.4286028443 6996045.31703916) POINT (477525.7255746751 6996033.322266212)\nline too small scalling up to rb\nPOINT (477958.6627598099 6994386.737342631) POINT (477976.8328637152 6994334.044041303)\nline too small scalling up to rb\nPOINT (477678.117886848 6995212.305059545) POINT (477668.1735862027 6995198.660554008)\nline too small scalling up to rb\nPOINT (477666.7871017132 6995232.775804018) POINT (477655.6901984136 6995232.491268036)\nline too small scalling up to rb\nPOINT (479899.7601883801 6991971.301020863) POINT (479926.6009135852 6991977.691669721)\nline too small scalling up to lb\nPOINT (479917.3465133123 6991936.992956286) POINT (479939.2677968341 6991949.887828946)\nline too small scalling up to lb\nPOINT (479928.0179626659 6991891.375866191) POINT (479953.1610391723 6991934.47828306)\nline too small scalling up to lb\nPOINT (480045.4303563986 6991924.572477845) POINT (480037.7167313019 6991901.658473881)\nline too small scalling up to rb\nPOINT (480057.5325365762 6991912.851046778) POINT (480052.1312539994 6991896.8060603)\nPOINT (479966.3040039061 6991979.937310006) POINT (479933.0858146413 6991960.397198674)\nline too small scalling up to rb\nPOINT (479967.6979474245 6991975.398277478) POINT (479935.4277937714 6991956.415834153)\nline too small scalling up to rb\nPOINT (480386.8121106314 6992126.926461887) POINT (480356.3930520883 6992139.094085304)\nline too small scalling up to lb\nPOINT (480481.5757798542 6992078.4508579) POINT (480527.866816738 6992134.144761651)\nline too small scalling up to lb\nPOINT (480506.72464893 6992083.917745349) POINT (480540.0530335361 6992124.015958078)\nline too small scalling up to lb\nPOINT (480215.1939014375 6991798.795888858) POINT (480127.4563686945 6991905.570810781)\nline too small scalling up to rb\nline too small scalling up to lb\nPOINT (479976.9600874155 6992250.880653853) POINT (479998.9204939866 6992244.852306951)\nPOINT (479970.3395320305 6992241.233602868) POINT (479995.9939214953 6992234.191221447)\nline too small scalling up to lb\nPOINT (479975.2361876686 6992091.490012093) POINT (479944.9728874039 6992104.099720536)\nline too small scalling up to rb\nPOINT (480626.1827123067 6991443.008755255) POINT (480545.6399110462 6991415.481468748)\nline too small scalling up to rb\nPOINT (480621.8813264938 6991406.893304879) POINT (480556.2422848477 6991384.459708367)\nline too small scalling up to rb\nPOINT (480644.4694152714 6991275.342090861) POINT (480623.2334382692 6991256.161208407)\nline too small scalling up to rb\nPOINT (480660.0615892857 6991247.675638292) POINT (480643.3468458523 6991233.468106373)\nPOINT (481495.9619918891 6990240.452358728) POINT (481484.2888179357 6990260.339988426)\nline too small scalling up to rb\nPOINT (481491.2136674093 6990237.011620618) POINT (481481.4443298079 6990258.670397568)\nline too small scalling up to rb\nPOINT (481481.9800653592 6990252.947731992) POINT (481479.8545273422 6990258.001789055)\nline too small scalling up to rb\nPOINT (481537.1431979508 6990250.81466955) POINT (481550.0108957083 6990274.666987344)\nline too small scalling up to rb\nPOINT (481548.077532984 6990223.250920497) POINT (481577.9168654462 6990257.016480915)\nline too small scalling up to rb\nPOINT (481540.3996606171 6990258.572931688) POINT (481549.2913816327 6990275.055146253)\nline too small scalling up to rb\nPOINT (481530.4966335706 6990258.558195688) POINT (481535.0870686933 6990281.510371305)\nline too small scalling up to rb\nPOINT (481485.023856624 6990204.105741918) POINT (481464.9869441441 6990251.749067149)\nPOINT (481005.0266122526 6990526.587034405) POINT (481017.2630247441 6990505.27879886)\nPOINT (481001.5792989762 6990514.28705322) POINT (481009.3589088196 6990500.739801596)\nPOINT (480985.5511647845 6990504.404589162) POINT (480993.0379009803 6990491.367341649)\nPOINT (480797.2878212656 6990378.066267262) POINT (480783.8012196853 6990421.897722397)\nline too small scalling up to rb\nPOINT (480732.6592758338 6990352.933620038) POINT (480703.5829744195 6990359.395020352)\nline too small scalling up to rb\nPOINT (480733.8438652792 6990355.372248384) POINT (480704.1551352197 6990361.969743953)\nline too small scalling up to rb\nPOINT (480751.1395982128 6990377.773243327) POINT (480737.4574137413 6990401.165365165)\nline too small scalling up to rb\nPOINT (480956.2473048274 6990498.046158139) POINT (480968.255271835 6990477.135732832)\nline too small scalling up to lb\nPOINT (480769.3852175211 6989851.233402282) POINT (480773.7759604452 6989867.698688245)\nline too small scalling up to lb\nPOINT (480763.1344913234 6989858.97713683) POINT (480769.3101278021 6989869.122825331)\nline too small scalling up to lb\nPOINT (480739.8450643882 6989870.571141735) POINT (480750.7862122947 6989880.398252161)\nline too small scalling up to lb\nPOINT (480706.364393576 6989876.611098563) POINT (480733.0598582326 6989900.340400481)\nline too small scalling up to lb\nPOINT (480697.602950863 6989906.835827291) POINT (480713.7630184357 6989921.570006548)\nline too small scalling up to lb\nPOINT (480690.4421139935 6989926.651298821) POINT (480701.7634146768 6989935.359991654)\nline too small scalling up to lb\nPOINT (480681.2085688961 6989942.033010555) POINT (480683.2331943447 6989947.297036722)\nline too small scalling up to lb\nPOINT (480643.1039799297 6990055.395136623) POINT (480616.825647081 6990057.938201092)\nline too small scalling up to rb\nPOINT (480641.4600740831 6990093.495108692) POINT (480620.3244956806 6990095.238249179)\nline too small scalling up to rb\nPOINT (483392.909343212 6989705.935426435) POINT (483384.2836976566 6989656.9482696)\nline too small scalling up to rb\nPOINT (483382.0349049902 6989692.186243905) POINT (483376.0844227563 6989658.391995746)\nline too small scalling up to rb\nPOINT (483368.6597574838 6989697.15265885) POINT (483362.2633012826 6989660.825615141)\nline too small scalling up to rb\nPOINT (483371.3542365892 6989681.649440358) POINT (483367.5244654623 6989659.89923075)\nline too small scalling up to rb\nPOINT (483383.6280686099 6989685.653356524) POINT (483378.7453944883 6989657.923452551)\nline too small scalling up to rb\nPOINT (483359.9449006484 6989697.584025067) POINT (483353.7368444856 6989662.326951387)\nline too small scalling up to rb\nPOINT (483363.7908622554 6989709.551594852) POINT (483355.4232734204 6989662.030005429)\nline too small scalling up to rb\nPOINT (483354.606479927 6989764.69928346) POINT (483320.5702272091 6989672.443124775)\nline too small scalling up to rb\nPOINT (483352.1327558613 6989763.256044419) POINT (483318.8615321951 6989673.07351711)\nline too small scalling up to rb\nPOINT (483339.5219151666 6989788.936146477) POINT (483299.7392451121 6989680.128341471)\nline too small scalling up to rb\nPOINT (483320.821403634 6989777.391661084) POINT (483299.7392451121 6989680.128341471)\nline too small scalling up to rb\nPOINT (483306.273024926 6989771.058598958) POINT (483299.7392451121 6989680.128341471)\nline too small scalling up to rb\nPOINT (483305.6749919321 6989773.937633961) POINT (483299.7392451121 6989680.128341471)\nline too small scalling up to rb\nPOINT (483247.0926872721 6989743.288058233) POINT (483281.7859313674 6989676.788190077)\nline too small scalling up to rb\nPOINT (483234.7264011785 6989734.410307122) POINT (483212.4936291171 6989665.241682933)\nline too small scalling up to rb\nPOINT (483249.7711770183 6989739.747256515) POINT (483281.7859313674 6989676.788190077)\nline too small scalling up to rb\nPOINT (483707.4464802991 6989682.538430328) POINT (483707.576993786 6989682.094684473)\nline too small scalling up to rb\nPOINT (483734.2529322442 6989705.058505645) POINT (483736.9025799199 6989688.33831514)\nline too small scalling up to rb\nPOINT (421479.0764814048 7043651.162276073) POINT (421480.6313709981 7043675.211235119)\nline too small scalling up to rb\nPOINT (421517.4358347824 7043640.544930065) POINT (421519.5146472901 7043672.697230186)\nline too small scalling up to rb\nPOINT (421583.2685483422 7043594.320298571) POINT (421578.3009642239 7043671.672679836)\nPOINT (421632.5592716209 7043585.210214863) POINT (421675.0141805644 7043652.752115454)\nline too small scalling up to rb\nPOINT (421877.3264188039 7043409.718753796) POINT (421833.0894135456 7043413.673717842)\nline too small scalling up to lb\nPOINT (421914.4334094637 7043440.740297268) POINT (421836.1351170652 7043447.740475727)\nline too small scalling up to rb\nPOINT (421567.9185851948 7042732.137288446) POINT (421583.6166414866 7042682.664626193)\nline too small scalling up to rb\nPOINT (421587.0732508317 7042770.802308399) POINT (421600.133215907 7042687.778244707)\nPOINT (421706.2528129948 7042749.829541157) POINT (421727.6490324502 7042733.782376565)\nline too small scalling up to rb\nPOINT (421685.81178783 7042710.049101121) POINT (421687.5159002484 7042703.403062689)\nline too small scalling up to rb\nPOINT (423702.974746895 7040450.456742398) POINT (423831.3775890093 7040432.507958016)\nline too small scalling up to rb\nPOINT (423638.7921866019 7039980.092058685) POINT (423720.5409889431 7039961.975547073)\nPOINT (423638.0934969467 7039980.530903339) POINT (423720.5409889431 7039961.975547073)\nPOINT (423632.0723437231 7039973.184042407) POINT (423719.2938286142 7039955.739745429)\nPOINT (423630.6791647832 7039956.893115436) POINT (423716.1073742374 7039939.807473545)\nPOINT (423608.4718115792 7039978.912131889) POINT (423719.487671509 7039956.708959903)\nline too small scalling up to rb\nPOINT (423819.2754016239 7040523.487174574) POINT (423842.2854727405 7040526.264252122)\nline too small scalling up to lb\nPOINT (424067.0846641421 7041019.321643819) POINT (424041.4767199158 7041044.255694777)\nline too small scalling up to lb\nPOINT (424181.8841709621 7041161.567665387) POINT (424183.9646591641 7041124.951073036)\nPOINT (424145.44545381 7041152.045078329) POINT (424160.0904703843 7041121.517438145)\nPOINT (423802.3155536089 7040730.84844422) POINT (423817.84119619 7040728.769117088)\nline too small scalling up to rb\nPOINT (424234.4069669046 7040162.22651626)POINT (424274.6590600212 7040124.127993137)\nline too small scalling up to lb\nPOINT (424174.1274429676 7039684.688545374) POINT (424162.9578584086 7039685.972405668)\nline too small scalling up to lb\nPOINT (424151.3299751268 7039672.699986855) POINT (424159.0695495325 7039670.543056282)\nline too small scalling up to lb\nPOINT (424117.8186886678 7039623.429967918) POINT (424153.9928477957 7039619.365455657)\nline too small scalling up to lb\nPOINT (424192.3168724661 7039602.831219103) POINT (424187.2670654485 7039588.931234838)\nline too small scalling up to lb\nPOINT (424615.0613198988 7039725.870102071) POINT (424628.2684857639 7039667.23028563)\nline too small scalling up to rb\nPOINT (424618.7335787729 7039726.999636682) POINT (424632.0055752225 7039668.071972445)\nline too small scalling up to rb\nPOINT (424628.9637265669 7039712.218054393) POINT (424638.5733768693 7039669.55120705)\nline too small scalling up to rb\nPOINT (424877.1542316276 7039694.088900711) POINT (424859.8646013758 7039733.06382992)\nline too small scalling up to rb\nPOINT (424884.3968337351 7039713.515807155) POINT (424873.1171910567 7039738.942798275)\nline too small scalling up to rb\nPOINT (427444.7525702445 7037029.567292658) POINT (427378.0334394276 7037010.253860053)\nline too small scalling up to rb\nPOINT (436152.2821884569 7021583.233137116) POINT (436146.7398657499 7021593.17671609)\nline too small scalling up to rb\nPOINT (480590.002870605 6985642.493952872) POINT (480603.5894475735 6985640.847095057)\nline too small scalling up to rb\nPOINT (480961.4192814254 6985776.430004547) POINT (480961.1579185059 6985784.532255052)\nline too small scalling up to lb\nPOINT (480961.618802558 6985775.433437167) POINT (480961.3251183184 6985784.537648594)\nline too small scalling up to lb\nPOINT (482862.4363024113 6985903.371961839) POINT (482862.620081673 6985911.642028612)\nline too small scalling up to lb\nPOINT (482820.3398951293 6985920.149727523) POINT (482826.7198319419 6985911.561351045)\nline too small scalling up to rb\nPOINT (482821.2287048446 6985921.701651126) POINT (482827.8680277172 6985912.414296478)\nline too small scalling up to rb\nPOINT (482838.6152539707 6985948.198259836) POINT (482837.8151426287 6985912.19324948)\nline too small scalling up to rb\nPOINT (482839.0997991385 6985955.730858542) POINT (482838.132140172 6985912.18620509)\nline too small scalling up to rb\nPOINT (482843.7694777661 6985943.553326134) POINT (482843.0699921857 6985912.076475045)\nline too small scalling up to rb\nPOINT (482864.895124943 6985986.558855822) POINT (482876.0365211399 6985912.747106026)\nline too small scalling up to rb\nPOINT (482871.5399619625 6985977.817718018) POINT (482881.2433101264 6985913.53303644)\nline too small scalling up to rb\nPOINT (482897.6416701843 6985930.225416671) POINT (482899.7398512408 6985916.324967174)\nPOINT (482932.317004531 6985910.778839311) POINT (482930.4840235899 6985921.318479722)\nPOINT (482931.921785627 6985910.224476584) POINT (482930.0068269458 6985921.235489002)\nPOINT (484128.426515391 6986108.088269202) POINT (484126.5712700941 6986104.099491814)\nline too small scalling up to lb\nPOINT (484145.5460535895 6986113.53760316) POINT (484138.562198918 6986098.522315617)\nline too small scalling up to lb\nPOINT (484065.8301986487 6986131.489789126) POINT (484065.8301986487 6986122.533748646)\n"
    },
    {
     "output_type": "error",
     "ename": "KeyError",
     "evalue": "'join_reach'",
     "traceback": [
      "\u001b[1;31m---------------------------------------------------------------------------\u001b[0m",
      "\u001b[1;31mKeyError\u001b[0m                                  Traceback (most recent call last)",
      "\u001b[1;32m~\\.conda\\envs\\veg_an\\lib\\site-packages\\pandas\\core\\indexes\\base.py\u001b[0m in \u001b[0;36mget_loc\u001b[1;34m(self, key, method, tolerance)\u001b[0m\n\u001b[0;32m   2656\u001b[0m             \u001b[1;32mtry\u001b[0m\u001b[1;33m:\u001b[0m\u001b[1;33m\u001b[0m\u001b[1;33m\u001b[0m\u001b[0m\n\u001b[1;32m-> 2657\u001b[1;33m                 \u001b[1;32mreturn\u001b[0m \u001b[0mself\u001b[0m\u001b[1;33m.\u001b[0m\u001b[0m_engine\u001b[0m\u001b[1;33m.\u001b[0m\u001b[0mget_loc\u001b[0m\u001b[1;33m(\u001b[0m\u001b[0mkey\u001b[0m\u001b[1;33m)\u001b[0m\u001b[1;33m\u001b[0m\u001b[1;33m\u001b[0m\u001b[0m\n\u001b[0m\u001b[0;32m   2658\u001b[0m             \u001b[1;32mexcept\u001b[0m \u001b[0mKeyError\u001b[0m\u001b[1;33m:\u001b[0m\u001b[1;33m\u001b[0m\u001b[1;33m\u001b[0m\u001b[0m\n",
      "\u001b[1;32mpandas/_libs/index.pyx\u001b[0m in \u001b[0;36mpandas._libs.index.IndexEngine.get_loc\u001b[1;34m()\u001b[0m\n",
      "\u001b[1;32mpandas/_libs/index.pyx\u001b[0m in \u001b[0;36mpandas._libs.index.IndexEngine.get_loc\u001b[1;34m()\u001b[0m\n",
      "\u001b[1;32mpandas/_libs/hashtable_class_helper.pxi\u001b[0m in \u001b[0;36mpandas._libs.hashtable.PyObjectHashTable.get_item\u001b[1;34m()\u001b[0m\n",
      "\u001b[1;32mpandas/_libs/hashtable_class_helper.pxi\u001b[0m in \u001b[0;36mpandas._libs.hashtable.PyObjectHashTable.get_item\u001b[1;34m()\u001b[0m\n",
      "\u001b[1;31mKeyError\u001b[0m: 'join_reach'",
      "\nDuring handling of the above exception, another exception occurred:\n",
      "\u001b[1;31mKeyError\u001b[0m                                  Traceback (most recent call last)",
      "\u001b[1;32m<ipython-input-26-fc1e05d1aa40>\u001b[0m in \u001b[0;36m<module>\u001b[1;34m\u001b[0m\n\u001b[0;32m     17\u001b[0m \u001b[1;33m\u001b[0m\u001b[0m\n\u001b[0;32m     18\u001b[0m     \u001b[1;32mif\u001b[0m \u001b[0mcat_name\u001b[0m \u001b[1;33m==\u001b[0m\u001b[1;34m'Mary'\u001b[0m\u001b[1;33m:\u001b[0m\u001b[1;33m\u001b[0m\u001b[1;33m\u001b[0m\u001b[0m\n\u001b[1;32m---> 19\u001b[1;33m         \u001b[0mpoints\u001b[0m \u001b[1;33m=\u001b[0m \u001b[0mpoints\u001b[0m\u001b[1;33m[\u001b[0m\u001b[0mpoints\u001b[0m\u001b[1;33m[\u001b[0m\u001b[1;34m'join_reach'\u001b[0m\u001b[1;33m]\u001b[0m \u001b[1;33m!=\u001b[0m \u001b[1;34m'MR1B'\u001b[0m\u001b[1;33m]\u001b[0m\u001b[1;33m\u001b[0m\u001b[1;33m\u001b[0m\u001b[0m\n\u001b[0m\u001b[0;32m     20\u001b[0m \u001b[1;33m\u001b[0m\u001b[0m\n\u001b[0;32m     21\u001b[0m     \u001b[0mrun_an\u001b[0m \u001b[1;33m=\u001b[0m \u001b[1;32mlambda\u001b[0m \u001b[0mx\u001b[0m\u001b[1;33m:\u001b[0m \u001b[0mget_geom_data\u001b[0m\u001b[1;33m(\u001b[0m\u001b[0mx\u001b[0m\u001b[1;33m[\u001b[0m\u001b[1;34m'name'\u001b[0m\u001b[1;33m]\u001b[0m\u001b[1;33m,\u001b[0m\u001b[0mx\u001b[0m\u001b[1;33m[\u001b[0m\u001b[1;34m'geometry'\u001b[0m\u001b[1;33m]\u001b[0m\u001b[1;33m,\u001b[0m \u001b[0mx\u001b[0m\u001b[1;33m[\u001b[0m\u001b[1;34m'join_Reach'\u001b[0m\u001b[1;33m]\u001b[0m\u001b[1;33m,\u001b[0m \u001b[0mthalwegs\u001b[0m\u001b[1;33m=\u001b[0m\u001b[0mthalwegs\u001b[0m\u001b[1;33m,\u001b[0m \u001b[0mbanklines\u001b[0m\u001b[1;33m=\u001b[0m\u001b[0mbanklines\u001b[0m\u001b[1;33m)\u001b[0m\u001b[1;33m\u001b[0m\u001b[1;33m\u001b[0m\u001b[0m\n",
      "\u001b[1;32m~\\.conda\\envs\\veg_an\\lib\\site-packages\\geopandas\\geodataframe.py\u001b[0m in \u001b[0;36m__getitem__\u001b[1;34m(self, key)\u001b[0m\n\u001b[0;32m    544\u001b[0m         \u001b[0mGeoDataFrame\u001b[0m\u001b[1;33m.\u001b[0m\u001b[1;33m\u001b[0m\u001b[1;33m\u001b[0m\u001b[0m\n\u001b[0;32m    545\u001b[0m         \"\"\"\n\u001b[1;32m--> 546\u001b[1;33m         \u001b[0mresult\u001b[0m \u001b[1;33m=\u001b[0m \u001b[0msuper\u001b[0m\u001b[1;33m(\u001b[0m\u001b[0mGeoDataFrame\u001b[0m\u001b[1;33m,\u001b[0m \u001b[0mself\u001b[0m\u001b[1;33m)\u001b[0m\u001b[1;33m.\u001b[0m\u001b[0m__getitem__\u001b[0m\u001b[1;33m(\u001b[0m\u001b[0mkey\u001b[0m\u001b[1;33m)\u001b[0m\u001b[1;33m\u001b[0m\u001b[1;33m\u001b[0m\u001b[0m\n\u001b[0m\u001b[0;32m    547\u001b[0m         \u001b[0mgeo_col\u001b[0m \u001b[1;33m=\u001b[0m \u001b[0mself\u001b[0m\u001b[1;33m.\u001b[0m\u001b[0m_geometry_column_name\u001b[0m\u001b[1;33m\u001b[0m\u001b[1;33m\u001b[0m\u001b[0m\n\u001b[0;32m    548\u001b[0m         \u001b[1;32mif\u001b[0m \u001b[0misinstance\u001b[0m\u001b[1;33m(\u001b[0m\u001b[0mkey\u001b[0m\u001b[1;33m,\u001b[0m \u001b[0mstring_types\u001b[0m\u001b[1;33m)\u001b[0m \u001b[1;32mand\u001b[0m \u001b[0mkey\u001b[0m \u001b[1;33m==\u001b[0m \u001b[0mgeo_col\u001b[0m\u001b[1;33m:\u001b[0m\u001b[1;33m\u001b[0m\u001b[1;33m\u001b[0m\u001b[0m\n",
      "\u001b[1;32m~\\.conda\\envs\\veg_an\\lib\\site-packages\\pandas\\core\\frame.py\u001b[0m in \u001b[0;36m__getitem__\u001b[1;34m(self, key)\u001b[0m\n\u001b[0;32m   2925\u001b[0m             \u001b[1;32mif\u001b[0m \u001b[0mself\u001b[0m\u001b[1;33m.\u001b[0m\u001b[0mcolumns\u001b[0m\u001b[1;33m.\u001b[0m\u001b[0mnlevels\u001b[0m \u001b[1;33m>\u001b[0m \u001b[1;36m1\u001b[0m\u001b[1;33m:\u001b[0m\u001b[1;33m\u001b[0m\u001b[1;33m\u001b[0m\u001b[0m\n\u001b[0;32m   2926\u001b[0m                 \u001b[1;32mreturn\u001b[0m \u001b[0mself\u001b[0m\u001b[1;33m.\u001b[0m\u001b[0m_getitem_multilevel\u001b[0m\u001b[1;33m(\u001b[0m\u001b[0mkey\u001b[0m\u001b[1;33m)\u001b[0m\u001b[1;33m\u001b[0m\u001b[1;33m\u001b[0m\u001b[0m\n\u001b[1;32m-> 2927\u001b[1;33m             \u001b[0mindexer\u001b[0m \u001b[1;33m=\u001b[0m \u001b[0mself\u001b[0m\u001b[1;33m.\u001b[0m\u001b[0mcolumns\u001b[0m\u001b[1;33m.\u001b[0m\u001b[0mget_loc\u001b[0m\u001b[1;33m(\u001b[0m\u001b[0mkey\u001b[0m\u001b[1;33m)\u001b[0m\u001b[1;33m\u001b[0m\u001b[1;33m\u001b[0m\u001b[0m\n\u001b[0m\u001b[0;32m   2928\u001b[0m             \u001b[1;32mif\u001b[0m \u001b[0mis_integer\u001b[0m\u001b[1;33m(\u001b[0m\u001b[0mindexer\u001b[0m\u001b[1;33m)\u001b[0m\u001b[1;33m:\u001b[0m\u001b[1;33m\u001b[0m\u001b[1;33m\u001b[0m\u001b[0m\n\u001b[0;32m   2929\u001b[0m                 \u001b[0mindexer\u001b[0m \u001b[1;33m=\u001b[0m \u001b[1;33m[\u001b[0m\u001b[0mindexer\u001b[0m\u001b[1;33m]\u001b[0m\u001b[1;33m\u001b[0m\u001b[1;33m\u001b[0m\u001b[0m\n",
      "\u001b[1;32m~\\.conda\\envs\\veg_an\\lib\\site-packages\\pandas\\core\\indexes\\base.py\u001b[0m in \u001b[0;36mget_loc\u001b[1;34m(self, key, method, tolerance)\u001b[0m\n\u001b[0;32m   2657\u001b[0m                 \u001b[1;32mreturn\u001b[0m \u001b[0mself\u001b[0m\u001b[1;33m.\u001b[0m\u001b[0m_engine\u001b[0m\u001b[1;33m.\u001b[0m\u001b[0mget_loc\u001b[0m\u001b[1;33m(\u001b[0m\u001b[0mkey\u001b[0m\u001b[1;33m)\u001b[0m\u001b[1;33m\u001b[0m\u001b[1;33m\u001b[0m\u001b[0m\n\u001b[0;32m   2658\u001b[0m             \u001b[1;32mexcept\u001b[0m \u001b[0mKeyError\u001b[0m\u001b[1;33m:\u001b[0m\u001b[1;33m\u001b[0m\u001b[1;33m\u001b[0m\u001b[0m\n\u001b[1;32m-> 2659\u001b[1;33m                 \u001b[1;32mreturn\u001b[0m \u001b[0mself\u001b[0m\u001b[1;33m.\u001b[0m\u001b[0m_engine\u001b[0m\u001b[1;33m.\u001b[0m\u001b[0mget_loc\u001b[0m\u001b[1;33m(\u001b[0m\u001b[0mself\u001b[0m\u001b[1;33m.\u001b[0m\u001b[0m_maybe_cast_indexer\u001b[0m\u001b[1;33m(\u001b[0m\u001b[0mkey\u001b[0m\u001b[1;33m)\u001b[0m\u001b[1;33m)\u001b[0m\u001b[1;33m\u001b[0m\u001b[1;33m\u001b[0m\u001b[0m\n\u001b[0m\u001b[0;32m   2660\u001b[0m         \u001b[0mindexer\u001b[0m \u001b[1;33m=\u001b[0m \u001b[0mself\u001b[0m\u001b[1;33m.\u001b[0m\u001b[0mget_indexer\u001b[0m\u001b[1;33m(\u001b[0m\u001b[1;33m[\u001b[0m\u001b[0mkey\u001b[0m\u001b[1;33m]\u001b[0m\u001b[1;33m,\u001b[0m \u001b[0mmethod\u001b[0m\u001b[1;33m=\u001b[0m\u001b[0mmethod\u001b[0m\u001b[1;33m,\u001b[0m \u001b[0mtolerance\u001b[0m\u001b[1;33m=\u001b[0m\u001b[0mtolerance\u001b[0m\u001b[1;33m)\u001b[0m\u001b[1;33m\u001b[0m\u001b[1;33m\u001b[0m\u001b[0m\n\u001b[0;32m   2661\u001b[0m         \u001b[1;32mif\u001b[0m \u001b[0mindexer\u001b[0m\u001b[1;33m.\u001b[0m\u001b[0mndim\u001b[0m \u001b[1;33m>\u001b[0m \u001b[1;36m1\u001b[0m \u001b[1;32mor\u001b[0m \u001b[0mindexer\u001b[0m\u001b[1;33m.\u001b[0m\u001b[0msize\u001b[0m \u001b[1;33m>\u001b[0m \u001b[1;36m1\u001b[0m\u001b[1;33m:\u001b[0m\u001b[1;33m\u001b[0m\u001b[1;33m\u001b[0m\u001b[0m\n",
      "\u001b[1;32mpandas/_libs/index.pyx\u001b[0m in \u001b[0;36mpandas._libs.index.IndexEngine.get_loc\u001b[1;34m()\u001b[0m\n",
      "\u001b[1;32mpandas/_libs/index.pyx\u001b[0m in \u001b[0;36mpandas._libs.index.IndexEngine.get_loc\u001b[1;34m()\u001b[0m\n",
      "\u001b[1;32mpandas/_libs/hashtable_class_helper.pxi\u001b[0m in \u001b[0;36mpandas._libs.hashtable.PyObjectHashTable.get_item\u001b[1;34m()\u001b[0m\n",
      "\u001b[1;32mpandas/_libs/hashtable_class_helper.pxi\u001b[0m in \u001b[0;36mpandas._libs.hashtable.PyObjectHashTable.get_item\u001b[1;34m()\u001b[0m\n",
      "\u001b[1;31mKeyError\u001b[0m: 'join_reach'"
     ]
    }
   ],
   "source": [
    "for cfg_test, cat_name in zip([cfg.pine_dirs, cfg.bris_dirs, cfg.kobble_dirs, cfg.mary_dirs], ['NPR', 'Bris','kobble', 'Mary']):\n",
    "    os.chdir(cfg_test['folder'])\n",
    "    thalwegs = gpd.read_file(cfg_test['thalwegs'])\n",
    "    banklines = gpd.read_file(cfg_test['banks'])\n",
    "    points = gpd.read_file(cfg_test['points'])\n",
    "    # because im an idiot with field names had to throw in these fucking fixes\n",
    "    if 'Bank' not in list(banklines.columns):\n",
    "        banklines = banklines.rename(columns={'Banks':'Bank'})\n",
    "    if 'join_Reach' not in list(points.columns):\n",
    "        if 'Reach' in list(points.columns):\n",
    "            points = points.rename(columns = {'Reach':'join_Reach'})\n",
    "        elif 'join_reach' in list(points.columns):\n",
    "            points = points.rename(columns = {'join_reach':'join_Reach'})\n",
    "    if 'Reach' not in list(thalwegs.columns):\n",
    "        thalwegs = thalwegs.rename(columns={'reach':'Reach'})\n",
    "        banklines =banklines.rename(columns={'reach':'Reach', 'bank':'Bank'})\n",
    "    \n",
    "    if cat_name =='Mary':\n",
    "        points = points[points['join_reach'] != 'MR1B']\n",
    "        \n",
    "    run_an = lambda x: get_geom_data(x['name'],x['geometry'], x['join_Reach'], thalwegs=thalwegs, banklines=banklines)\n",
    "    lister = points.apply(run_an, axis=1)\n",
    "    name = [l[0] for l in lister]\n",
    "    tp = [l[1] for l in lister]\n",
    "\n",
    "    td = [l[2] for l in lister]\n",
    "    tdis = [l[3] for l in lister]\n",
    "\n",
    "    rp = [l[4] for l in lister]\n",
    "    rd = [l[5] for l in lister]\n",
    "    rdis= [l[6] for l in lister]\n",
    "    lp = [l[7] for l in lister]\n",
    "    ld = [l[8] for l in lister]\n",
    "    ldis = [l[9] for l in lister]\n",
    "    bfw = [l[10] for l in lister]\n",
    "    reacher = [l[11] for l in lister]\n",
    "    xs_line = [l[12] for l in lister]\n",
    "\n",
    "\n",
    "\n",
    "    geom_dat = pd.DataFrame({'name':name,'thal_dist':tdis, 'thal_dir':td,\n",
    "                             'rb_dis':rdis,'rb_dir':rd,'lb_dis':ldis, \n",
    "                             'lb_dir':ld,'bfw': bfw, 'Reach':reacher })\n",
    "\n",
    "    rbpts = gpd.GeoDataFrame({'name':name, 'geometry':rp,'Reach':reacher}, geometry= 'geometry', crs=out_crs)\n",
    "    lbpts = gpd.GeoDataFrame({'name':name, 'geometry':lp,'Reach':reacher}, geometry= 'geometry', crs=out_crs)\n",
    "    tpts = gpd.GeoDataFrame({'name':name, 'geometry':tp,'Reach':reacher}, geometry= 'geometry', crs=out_crs)\n",
    "    xsline = gpd.GeoDataFrame({'name':name, 'geometry':xs_line, 'Reach':reacher}, geometry='geometry', crs=out_crs)\n",
    "\n",
    "    rbpts['type'] = 'RB'\n",
    "    lbpts['type'] = 'LB'\n",
    "    tpts['type'] = 'thal'\n",
    "\n",
    "    pts = points[['name', 'geometry', 'join_Reach']].rename(columns = {\t'join_Reach':'Reach'})\n",
    "\n",
    "    pts['type'] = 'sl'\n",
    "\n",
    "    merged_pts = pd.concat([pts, rbpts, tpts, lbpts])\n",
    "\n",
    "    merged_buf = merged_pts.copy()\n",
    "\n",
    "    merged_buf['geometry'] = merged_buf['geometry'].buffer(2.0)\n",
    "    \n",
    "    os.chdir(r'E:\\Brisbane_Pine GIS QGIS_2018\\GIS_scripts_dendro')\n",
    "\n",
    "    geom_dat.to_csv(cat_name+'_geom_data_LR.csv')\n",
    "    \n",
    "    merged_pts.to_file(cat_name+'_merged_pts_V2.geojson', driver='GeoJSON')\n",
    "    merged_buf.to_file(cat_name+'_merged_buf_V2.geojson', driver='GeoJSON')\n",
    "    xsline.to_file(cat_name+'projected_XS_V2.geojson', driver='GeoJSON')\n",
    "\n",
    "    \n",
    "\n",
    "    "
   ]
  },
  {
   "cell_type": "code",
   "execution_count": 27,
   "metadata": {},
   "outputs": [
    {
     "output_type": "execute_result",
     "data": {
      "text/plain": "'Mary'"
     },
     "metadata": {},
     "execution_count": 27
    }
   ],
   "source": [
    "cat_name"
   ]
  },
  {
   "cell_type": "code",
   "execution_count": 28,
   "metadata": {
    "tags": []
   },
   "outputs": [
    {
     "output_type": "stream",
     "name": "stdout",
     "text": "POINT (471472.6644190443 7043715.712826243) POINT (471517.8726959409 7043697.366668024)\nline too small scalling up to rb\nPOINT (471477.1353599611 7043717.716506008) POINT (471519.2030289251 7043700.644850912)\nline too small scalling up to rb\nPOINT (471471.6942686413 7043749.048294124) POINT (471529.3506781173 7043725.650507631)\nline too small scalling up to rb\nPOINT (471501.5945649647 7043720.651210334) POINT (471523.6840783922 7043711.686973338)\nline too small scalling up to rb\nPOINT (471507.7706766902 7043716.234848088) POINT (471523.0185692742 7043710.047037601)\nline too small scalling up to rb\nPOINT (471486.2636925131 7043771.453866482) POINT (471536.4202177576 7043743.028011977)\nline too small scalling up to rb\nPOINT (471489.6426503702 7043772.569033422) POINT (471537.7200429448 7043745.321512593)\nline too small scalling up to rb\nPOINT (471498.0895941466 7043819.770225363) POINT (471560.021082254 7043784.670994273)\nline too small scalling up to rb\nPOINT (471483.6893444241 7043766.353282284) POINT (471536.3585789148 7043742.91925218)\nline too small scalling up to rb\nPOINT (471495.1782456351 7043831.836113136) POINT (471570.202993835 7043810.467312183)\nline too small scalling up to rb\nPOINT (471500.4436248563 7043834.395352636) POINT (471571.2723265632 7043814.221683749)\nline too small scalling up to rb\nPOINT (471463.3192553145 7043846.605744254) POINT (471571.7034652604 7043815.73538928)\nline too small scalling up to rb\nPOINT (471464.8951399435 7043809.284417894) POINT (471547.4531407492 7043762.495257208)\nline too small scalling up to rb\nPOINT (471461.8805652804 7043823.01141065) POINT (471552.6086165289 7043771.591931893)\nline too small scalling up to rb\nPOINT (471451.2724724145 7043852.227178087) POINT (471572.2804833285 7043817.761269691)\nline too small scalling up to rb\nPOINT (471664.5783355406 7044041.877706921) POINT (471594.4569688304 7044070.077335908)\nPOINT (471767.3137822299 7044266.720661876) POINT (471748.5113071041 7044282.086615595)\nline too small scalling up to lb\nPOINT (471770.2896355882 7044270.271490207) POINT (471751.4427872167 7044285.67370709)\nline too small scalling up to lb\nPOINT (471779.988639102 7044247.145043133) POINT (471743.9949411841 7044276.560186229)\nline too small scalling up to lb\nPOINT (471720.8073936702 7044159.515694317) POINT (471677.3597853794 7044195.022399352)\nline too small scalling up to lb\nPOINT (471719.301937217 7044165.603927549) POINT (471679.7401012719 7044197.935061408)\nline too small scalling up to lb\nPOINT (473027.5524625917 7059556.537885273) POINT (473035.4925411305 7059580.396160451)\nline too small scalling up to rb\nPOINT (473000.5279131559 7059574.865836056) POINT (473008.1422025994 7059592.013745931)\nline too small scalling up to rb\nPOINT (473016.9805610124 7059564.379044104) POINT (473025.7747834138 7059584.184245138)\nline too small scalling up to rb\nPOINT (473005.4654550669 7059923.640377843) POINT (473022.9497419393 7059909.181389674)\nline too small scalling up to rb\nPOINT (472995.7023166457 7059925.61327461) POINT (473019.9535139389 7059905.558251644)\nline too small scalling up to rb\nPOINT (473001.0813211465 7059924.849388246) POINT (473021.7629555105 7059907.746288259)\nline too small scalling up to rb\nPOINT (473008.1217816296 7059938.930038331) POINT (473031.5374709651 7059919.565955738)\nline too small scalling up to rb\nPOINT (473057.7627949661 7059868.374043511) POINT (473017.0475908085 7059902.044313252)\nline too small scalling up to lb\nPOINT (473601.8943991875 7058992.008996097) POINT (473578.6448395308 7059011.40620587)\nline too small scalling up to lb\nPOINT (473597.7095607687 7058993.329375884) POINT (473577.5768868153 7059010.126154221)\nline too small scalling up to lb\nPOINT (473571.9400098735 7058983.640374761) POINT (473563.206886283 7059002.974790391)\nline too small scalling up to lb\nPOINT (473551.2144938975 7058990.464131157) POINT (473548.553245147 7058996.355916484)\nPOINT (473372.8178174773 7058399.552198102) POINT (473407.0584371093 7058402.60331299)\nline too small scalling up to lb\nPOINT (473228.5389162078 7058211.410949972) POINT (473247.701683867 7058188.39027642)\nPOINT (473314.8967150196 7058148.351500355) POINT (473288.6891838109 7058216.766845793)\nline too small scalling up to lb\nPOINT (473314.6987410046 7058147.797315164) POINT (473288.3314188207 7058216.629798511)\nline too small scalling up to lb\nPOINT (473273.1203034928 7058080.925432841) POINT (473195.0485383553 7058134.426179634)\nline too small scalling up to lb\nPOINT (473275.9065356452 7058081.70655592) POINT (473196.3031014227 7058136.256919559)\nline too small scalling up to lb\nPOINT (473263.2691410047 7058125.538677462) POINT (473225.9928690122 7058170.319520398)\nline too small scalling up to lb\nPOINT (473237.3636492754 7058039.317578135)POINT (473164.2209461448 7058089.440554515)\nline too small scalling up to lb\nPOINT (473239.9467836777 7058041.981102952) POINT (473166.2883746403 7058092.457480476)\nline too small scalling up to lb\nPOINT (473245.2189011205 7058044.318011571) POINT (473169.0627517949 7058096.506031845)\nline too small scalling up to lb\n"
    }
   ],
   "source": [
    "# note just copied and pasted this fucker to get it to work and not repeat everything\n",
    "if cat_name =='Mary':\n",
    "        points = points[points['join_Reach'] != 'MR1B']\n",
    "        \n",
    "run_an = lambda x: get_geom_data(x['name'],x['geometry'], x['join_Reach'], thalwegs=thalwegs, banklines=banklines)\n",
    "lister = points.apply(run_an, axis=1)\n",
    "name = [l[0] for l in lister]\n",
    "tp = [l[1] for l in lister]\n",
    "\n",
    "td = [l[2] for l in lister]\n",
    "tdis = [l[3] for l in lister]\n",
    "\n",
    "rp = [l[4] for l in lister]\n",
    "rd = [l[5] for l in lister]\n",
    "rdis= [l[6] for l in lister]\n",
    "lp = [l[7] for l in lister]\n",
    "ld = [l[8] for l in lister]\n",
    "ldis = [l[9] for l in lister]\n",
    "bfw = [l[10] for l in lister]\n",
    "reacher = [l[11] for l in lister]\n",
    "xs_line = [l[12] for l in lister]\n",
    "\n",
    "\n",
    "\n",
    "geom_dat = pd.DataFrame({'name':name,'thal_dist':tdis, 'thal_dir':td,\n",
    "                         'rb_dis':rdis,'rb_dir':rd,'lb_dis':ldis, \n",
    "                         'lb_dir':ld,'bfw': bfw, 'Reach':reacher })\n",
    "\n",
    "rbpts = gpd.GeoDataFrame({'name':name, 'geometry':rp,'Reach':reacher}, geometry= 'geometry', crs=out_crs)\n",
    "lbpts = gpd.GeoDataFrame({'name':name, 'geometry':lp,'Reach':reacher}, geometry= 'geometry', crs=out_crs)\n",
    "tpts = gpd.GeoDataFrame({'name':name, 'geometry':tp,'Reach':reacher}, geometry= 'geometry', crs=out_crs)\n",
    "xsline = gpd.GeoDataFrame({'name':name, 'geometry':xs_line, 'Reach':reacher}, geometry='geometry', crs=out_crs)\n",
    "\n",
    "rbpts['type'] = 'RB'\n",
    "lbpts['type'] = 'LB'\n",
    "tpts['type'] = 'thal'\n",
    "\n",
    "pts = points[['name', 'geometry', 'join_Reach']].rename(columns = {\t'join_Reach':'Reach'})\n",
    "\n",
    "pts['type'] = 'sl'\n",
    "\n",
    "merged_pts = pd.concat([pts, rbpts, tpts, lbpts])\n",
    "\n",
    "merged_buf = merged_pts.copy()\n",
    "\n",
    "merged_buf['geometry'] = merged_buf['geometry'].buffer(2.0)\n",
    "\n",
    "os.chdir(r'e:\\Brisbane_Pine GIS QGIS_2018\\GIS_scripts_dendro')\n",
    "\n",
    "geom_dat.to_csv(cat_name+'_geom_data_LR.csv')\n",
    "\n",
    "merged_pts.to_file(cat_name+'_merged_pts_V2.geojson', driver='GeoJSON')\n",
    "merged_buf.to_file(cat_name+'_merged_buf-V2.geojson', driver='GeoJSON')\n",
    "xsline.to_file(cat_name+'projected_XS_V2.geojson', driver='GeoJSON')"
   ]
  },
  {
   "cell_type": "markdown",
   "metadata": {},
   "source": [
    "### A one off for redoing NPR after resaving it and buildign it up\n"
   ]
  },
  {
   "cell_type": "code",
   "execution_count": null,
   "metadata": {},
   "outputs": [],
   "source": [
    "for cfg_test, cat_name in zip([cfg.pine_dirs], ['NPR']):\n",
    "    os.chdir(cfg_test['folder'])\n",
    "    thalwegs = gpd.read_file(cfg_test['thalwegs'])\n",
    "    banklines = gpd.read_file(cfg_test['banks'])\n",
    "    points = gpd.read_file(cfg_test['points'])\n",
    "    # because im an idiot with field names had to throw in these fucking fixes\n",
    "    if 'Bank' not in list(banklines.columns):\n",
    "        banklines = banklines.rename(columns={'Banks':'Bank'})\n",
    "    if 'join_Reach' not in list(points.columns):\n",
    "        if 'Reach' in list(points.columns):\n",
    "            points = points.rename(columns = {'Reach':'join_Reach'})\n",
    "        elif 'join_reach' in list(points.columns):\n",
    "            points = points.rename(columns = {'join_reach':'join_Reach'})\n",
    "    if 'Reach' not in list(thalwegs.columns):\n",
    "        thalwegs = thalwegs.rename(columns={'reach':'Reach'})\n",
    "        banklines =banklines.rename(columns={'reach':'Reach', 'bank':'Bank'})\n",
    "    \n",
    "    if cat_name =='Mary':\n",
    "        points = points[points['join_reach'] != 'MR1B']\n",
    "        \n",
    "    run_an = lambda x: get_geom_data(x['name'],x['geometry'], x['join_Reach'], thalwegs=thalwegs, banklines=banklines)\n",
    "    lister = points.apply(run_an, axis=1)\n",
    "    name = [l[0] for l in lister]\n",
    "    tp = [l[1] for l in lister]\n",
    "\n",
    "    td = [l[2] for l in lister]\n",
    "    tdis = [l[3] for l in lister]\n",
    "\n",
    "    rp = [l[4] for l in lister]\n",
    "    rd = [l[5] for l in lister]\n",
    "    rdis= [l[6] for l in lister]\n",
    "    lp = [l[7] for l in lister]\n",
    "    ld = [l[8] for l in lister]\n",
    "    ldis = [l[9] for l in lister]\n",
    "    bfw = [l[10] for l in lister]\n",
    "    reacher = [l[11] for l in lister]\n",
    "\n",
    "\n",
    "    geom_dat = pd.DataFrame({'name':name,'thal_dist':tdis, 'thal_dir':td,\n",
    "                             'rb_dis':rdis,'rb_dir':rd,'lb_dis':ldis, \n",
    "                             'lb_dir':ld,'bfw': bfw, 'Reach':reacher })\n",
    "\n",
    "    rbpts = gpd.GeoDataFrame({'name':name, 'geometry':rp,'Reach':reacher}, geometry= 'geometry')\n",
    "    lbpts = gpd.GeoDataFrame({'name':name, 'geometry':lp,'Reach':reacher}, geometry= 'geometry')\n",
    "    tpts = gpd.GeoDataFrame({'name':name, 'geometry':tp,'Reach':reacher}, geometry= 'geometry')\n",
    "\n",
    "    rbpts['type'] = 'RB'\n",
    "    lbpts['type'] = 'LB'\n",
    "    tpts['type'] = 'thal'\n",
    "\n",
    "    pts = points[['name', 'geometry', 'join_Reach']].rename(columns = {\t'join_Reach':'Reach'})\n",
    "\n",
    "    pts['type'] = 'sl'\n",
    "\n",
    "    merged_pts = pd.concat([pts, rbpts, tpts, lbpts])\n",
    "\n",
    "    merged_buf = merged_pts.copy()\n",
    "\n",
    "    merged_buf['geometry'] = merged_buf['geometry'].buffer(2.0)\n",
    "    \n",
    "    os.chdir(r'E:\\Brisbane_Pine GIS QGIS_2018\\GIS_scripts_dendro')\n",
    "\n",
    "    geom_dat.to_csv(cat_name+'_geom_data_LR.csv')\n",
    "    \n",
    "    merged_pts.to_file(cat_name+'_merged_pts.geojson', driver='GeoJSON')\n",
    "    merged_buf.to_file(cat_name+'_merged_buf.geojson', driver='GeoJSON')\n"
   ]
  },
  {
   "cell_type": "markdown",
   "metadata": {},
   "source": [
    "# Part two, grabbing the end points of the thalweg for a gradient calculation"
   ]
  },
  {
   "cell_type": "code",
   "execution_count": 11,
   "metadata": {},
   "outputs": [],
   "source": [
    "def line_ends(line):\n",
    "    pts = list(line.coords)\n",
    "    top = pts[0]\n",
    "    bot = pts[-1]\n",
    "    return [Point(top),Point(bot)]"
   ]
  },
  {
   "cell_type": "code",
   "execution_count": 12,
   "metadata": {},
   "outputs": [
    {
     "data": {
      "text/plain": [
       "2.414213562373095"
      ]
     },
     "execution_count": 12,
     "metadata": {},
     "output_type": "execute_result"
    }
   ],
   "source": [
    "test_ls = LineString([(1,1), (2,2), (2,1)])\n",
    "test_ls\n",
    "list(test_ls.coords)[0]\n",
    "\n",
    "test_ls.length"
   ]
  },
  {
   "cell_type": "code",
   "execution_count": 13,
   "metadata": {},
   "outputs": [],
   "source": [
    "cfg_test = cfg.pine_dirs\n",
    "os.chdir(cfg_test['folder'])\n",
    "thalwegs = gpd.read_file(cfg_test['thalwegs'])"
   ]
  },
  {
   "cell_type": "code",
   "execution_count": 14,
   "metadata": {},
   "outputs": [
    {
     "data": {
      "text/html": [
       "<div>\n",
       "<style scoped>\n",
       "    .dataframe tbody tr th:only-of-type {\n",
       "        vertical-align: middle;\n",
       "    }\n",
       "\n",
       "    .dataframe tbody tr th {\n",
       "        vertical-align: top;\n",
       "    }\n",
       "\n",
       "    .dataframe thead th {\n",
       "        text-align: right;\n",
       "    }\n",
       "</style>\n",
       "<table border=\"1\" class=\"dataframe\">\n",
       "  <thead>\n",
       "    <tr style=\"text-align: right;\">\n",
       "      <th></th>\n",
       "      <th>id</th>\n",
       "      <th>Reach</th>\n",
       "      <th>geometry</th>\n",
       "    </tr>\n",
       "  </thead>\n",
       "  <tbody>\n",
       "    <tr>\n",
       "      <th>0</th>\n",
       "      <td>None</td>\n",
       "      <td>LC1</td>\n",
       "      <td>(LINESTRING (473813.9128900793 6989466.0442244...</td>\n",
       "    </tr>\n",
       "    <tr>\n",
       "      <th>1</th>\n",
       "      <td>None</td>\n",
       "      <td>LC2</td>\n",
       "      <td>(LINESTRING (474458.6033456232 6990079.7248793...</td>\n",
       "    </tr>\n",
       "    <tr>\n",
       "      <th>2</th>\n",
       "      <td>None</td>\n",
       "      <td>LC3</td>\n",
       "      <td>(LINESTRING (476084.3086366151 6992433.1708099...</td>\n",
       "    </tr>\n",
       "    <tr>\n",
       "      <th>3</th>\n",
       "      <td>None</td>\n",
       "      <td>LC4</td>\n",
       "      <td>(LINESTRING (477864.7330391073 6993715.7889453...</td>\n",
       "    </tr>\n",
       "    <tr>\n",
       "      <th>4</th>\n",
       "      <td>None</td>\n",
       "      <td>NPR1</td>\n",
       "      <td>(LINESTRING (477400.3282859836 6996078.3893649...</td>\n",
       "    </tr>\n",
       "  </tbody>\n",
       "</table>\n",
       "</div>"
      ],
      "text/plain": [
       "     id Reach                                           geometry\n",
       "0  None   LC1  (LINESTRING (473813.9128900793 6989466.0442244...\n",
       "1  None   LC2  (LINESTRING (474458.6033456232 6990079.7248793...\n",
       "2  None   LC3  (LINESTRING (476084.3086366151 6992433.1708099...\n",
       "3  None   LC4  (LINESTRING (477864.7330391073 6993715.7889453...\n",
       "4  None  NPR1  (LINESTRING (477400.3282859836 6996078.3893649..."
      ]
     },
     "execution_count": 14,
     "metadata": {},
     "output_type": "execute_result"
    }
   ],
   "source": [
    "thalwegs.head()"
   ]
  },
  {
   "cell_type": "code",
   "execution_count": 15,
   "metadata": {},
   "outputs": [],
   "source": [
    "def get_ends(line, reach,ptlist,reachlist,lenlist):\n",
    "    if type(line) is MultiLineString:\n",
    "        line = line[0]\n",
    "    end_points = line_ends(line)\n",
    "    ptlist += end_points\n",
    "    reachlist += [reach,reach]\n",
    "    lenlist += [line.length, line.length]\n",
    "    \n"
   ]
  },
  {
   "cell_type": "code",
   "execution_count": 16,
   "metadata": {},
   "outputs": [],
   "source": [
    "ptlist = []\n",
    "reachlist = []\n",
    "lenlist = []\n",
    "applyer = lambda x: get_ends(x['geometry'], x['Reach'], ptlist = ptlist, reachlist = reachlist, lenlist = lenlist)\n",
    "thalwegs.apply(applyer, axis=1)\n",
    "\n",
    "out = {'geometry':ptlist, 'Reach':reachlist, 'linelength':lenlist}"
   ]
  },
  {
   "cell_type": "code",
   "execution_count": null,
   "metadata": {},
   "outputs": [],
   "source": []
  },
  {
   "cell_type": "code",
   "execution_count": null,
   "metadata": {},
   "outputs": [],
   "source": []
  },
  {
   "cell_type": "code",
   "execution_count": 17,
   "metadata": {},
   "outputs": [],
   "source": [
    "for cfg_test, cat_name in zip([cfg.pine_dirs, cfg.bris_dirs, cfg.kobble_dirs, cfg.mary_dirs], ['NPR', 'Bris','kobble', 'Mary']):\n",
    "    os.chdir(cfg_test['folder'])\n",
    "    thalwegs = gpd.read_file(cfg_test['thalwegs'])\n",
    "    if 'Reach' not in list(thalwegs.columns):\n",
    "        thalwegs = thalwegs.rename(columns={'reach':'Reach'})\n",
    "    \n",
    "    ptlist = []\n",
    "    reachlist = []\n",
    "    lenlist = []\n",
    "    applyer = lambda x: get_ends(x['geometry'], x['Reach'], ptlist = ptlist, reachlist = reachlist, lenlist = lenlist)\n",
    "    thalwegs.apply(applyer, axis=1)\n",
    "    \n",
    "    out = {'geometry':ptlist, 'Reach':reachlist, 'linelength':lenlist}\n",
    "    gdf_out = gpd.GeoDataFrame(out, geometry = 'geometry')\n",
    "    gdf_out.crs = thalwegs.crs\n",
    "    \n",
    "    os.chdir(r'E:\\Brisbane_Pine GIS QGIS_2018\\GIS_scripts_dendro')\n",
    "    gdf_out.to_file(cat_name+'_end_pts.geojson', driver='GeoJSON')"
   ]
  },
  {
   "cell_type": "code",
   "execution_count": 9,
   "metadata": {},
   "outputs": [
    {
     "data": {
      "text/html": [
       "<div>\n",
       "<style scoped>\n",
       "    .dataframe tbody tr th:only-of-type {\n",
       "        vertical-align: middle;\n",
       "    }\n",
       "\n",
       "    .dataframe tbody tr th {\n",
       "        vertical-align: top;\n",
       "    }\n",
       "\n",
       "    .dataframe thead th {\n",
       "        text-align: right;\n",
       "    }\n",
       "</style>\n",
       "<table border=\"1\" class=\"dataframe\">\n",
       "  <thead>\n",
       "    <tr style=\"text-align: right;\">\n",
       "      <th></th>\n",
       "      <th>id</th>\n",
       "      <th>reach</th>\n",
       "      <th>geometry</th>\n",
       "    </tr>\n",
       "  </thead>\n",
       "  <tbody>\n",
       "    <tr>\n",
       "      <th>0</th>\n",
       "      <td>0.0</td>\n",
       "      <td>MR1</td>\n",
       "      <td>(LINESTRING (471502.7699508757 7043643.6756773...</td>\n",
       "    </tr>\n",
       "    <tr>\n",
       "      <th>1</th>\n",
       "      <td>1.0</td>\n",
       "      <td>MR2</td>\n",
       "      <td>(LINESTRING (473039.8303955022 7057845.3384054...</td>\n",
       "    </tr>\n",
       "    <tr>\n",
       "      <th>2</th>\n",
       "      <td>2.0</td>\n",
       "      <td>MR3</td>\n",
       "      <td>(LINESTRING (473379.1643790967 7058273.8623458...</td>\n",
       "    </tr>\n",
       "    <tr>\n",
       "      <th>3</th>\n",
       "      <td>3.0</td>\n",
       "      <td>MR4</td>\n",
       "      <td>(LINESTRING (473298.658448137 7059506.55797679...</td>\n",
       "    </tr>\n",
       "    <tr>\n",
       "      <th>4</th>\n",
       "      <td>NaN</td>\n",
       "      <td>MR1B</td>\n",
       "      <td>(LINESTRING (468637.1523883796 7049798.8285008...</td>\n",
       "    </tr>\n",
       "  </tbody>\n",
       "</table>\n",
       "</div>"
      ],
      "text/plain": [
       "    id reach                                           geometry\n",
       "0  0.0   MR1  (LINESTRING (471502.7699508757 7043643.6756773...\n",
       "1  1.0   MR2  (LINESTRING (473039.8303955022 7057845.3384054...\n",
       "2  2.0   MR3  (LINESTRING (473379.1643790967 7058273.8623458...\n",
       "3  3.0   MR4  (LINESTRING (473298.658448137 7059506.55797679...\n",
       "4  NaN  MR1B  (LINESTRING (468637.1523883796 7049798.8285008..."
      ]
     },
     "execution_count": 9,
     "metadata": {},
     "output_type": "execute_result"
    }
   ],
   "source": [
    "thalwegs"
   ]
  },
  {
   "cell_type": "code",
   "execution_count": null,
   "metadata": {},
   "outputs": [],
   "source": []
  }
 ],
 "metadata": {
  "kernelspec": {
   "display_name": "Python 3.7.7 64-bit ('veg_an': conda)",
   "language": "python",
   "name": "python_defaultSpec_1598687930027"
  },
  "language_info": {
   "codemirror_mode": {
    "name": "ipython",
    "version": 3
   },
   "file_extension": ".py",
   "mimetype": "text/x-python",
   "name": "python",
   "nbconvert_exporter": "python",
   "pygments_lexer": "ipython3",
   "version": "3.7.7-final"
  }
 },
 "nbformat": 4,
 "nbformat_minor": 2
}